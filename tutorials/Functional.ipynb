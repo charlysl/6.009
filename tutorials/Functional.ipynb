{
 "cells": [
  {
   "cell_type": "markdown",
   "metadata": {
    "deletable": true,
    "editable": true
   },
   "source": [
    "## Functional Programming: map, filter, reduce\n",
    "\n",
    "\"Functional programming\" is a useful programming style, that stands in contrast to \"imperative\" programming and \"object oriented\" programming in important ways. The key idea is to decompose computation into functions that simply produce output values in response to input values, without local state and mutation of state. The composition of functions such as `f(g(x, h(y, z))))` matters, but the order of separate function calls does not matter. For example, `f(3, 55)` will always return the same value in a purely functional program, since there is no change in state under the covers (i.e., in global or local variables, or instance/class variables in OOP) that might affect that functional mapping.\n",
    "\n",
    "Note that python is multilingual, in the sense that it supports all of (or a combination of) functional, imperative, and object oriented programming styles. Indeed, the idea of \"comprehensions\", and the generator or iterator mechanism, can be viewed as based on functional concepts -- though these are not strictly functional, in that mutation is possible within such constructs.\n",
    "\n",
    "A popular or classic group of functions typical in functional programming are *map*, *filter*, and *reduce*. Python has `map` and `filter` as built-ins; as of Python 3, `reduce` as been moved to `functools.reduce`.  Here we'll consider our own implementations of these functions, in both python and in Scheme (Carlae). In 6.009 Lab8, you'll implement built-in versions of these to include your Carlae language.\n",
    "\n",
    "You can learn more about functional programming in python at https://docs.python.org/3/howto/functional.html"
   ]
  },
  {
   "cell_type": "markdown",
   "metadata": {
    "deletable": true,
    "editable": true
   },
   "source": [
    "## 1. map\n",
    "\n",
    "### Python -- our own `map_list`"
   ]
  },
  {
   "cell_type": "code",
   "execution_count": null,
   "metadata": {
    "collapsed": false,
    "deletable": true,
    "editable": true
   },
   "outputs": [],
   "source": [
    "def map_list(f, L):\n",
    "    return [f(x) for x in L]\n",
    "\n",
    "map_list(lambda z: z*z, [1, 2, 3])"
   ]
  },
  {
   "cell_type": "code",
   "execution_count": null,
   "metadata": {
    "collapsed": false,
    "deletable": true,
    "editable": true
   },
   "outputs": [],
   "source": [
    "def sq(z):\n",
    "    return z*z\n",
    "map_list(sq, range(10))"
   ]
  },
  {
   "cell_type": "markdown",
   "metadata": {
    "deletable": true,
    "editable": true
   },
   "source": [
    "The `map_list` above is kind of cheating; it uses list comprehension to do the mapping. What if we didn't have list comprehensions at our disposal? We could write other iterative or recursive versions. Below is a recursive implementation, which turns out to be close to how we would write the function in Scheme:"
   ]
  },
  {
   "cell_type": "code",
   "execution_count": null,
   "metadata": {
    "collapsed": false,
    "deletable": true,
    "editable": true
   },
   "outputs": [],
   "source": [
    "def map_list(f, L):\n",
    "    if len(L) == 0:\n",
    "        return []\n",
    "    return [f(L[0])] + map_list(f, L[1:])\n",
    "\n",
    "map_list(lambda z: z*z, range(10))"
   ]
  },
  {
   "cell_type": "markdown",
   "metadata": {
    "deletable": true,
    "editable": true
   },
   "source": [
    "### Scheme versions of `map_list`"
   ]
  },
  {
   "cell_type": "code",
   "execution_count": null,
   "metadata": {
    "collapsed": true,
    "deletable": true,
    "editable": true
   },
   "outputs": [],
   "source": [
    ";; Scheme/Carlae\n",
    "(define (map_list f L)\n",
    "    (if (=? (length L) 0)\n",
    "        (list)\n",
    "        (concat (list (f (car L))) (map_list f (cdr L)))))\n",
    "\n",
    "(define (sq x) (* x x))\n",
    "(map_list sq (list 1 2 3 4 5 6))\n",
    "; out> (1 4 9 16 25 36)"
   ]
  },
  {
   "cell_type": "code",
   "execution_count": null,
   "metadata": {
    "collapsed": true,
    "deletable": true,
    "editable": true
   },
   "outputs": [],
   "source": [
    ";; Scheme/Carlae; a bit more \"Scheme-ish\"\n",
    "(define (map_list f L)\n",
    "    (if (=? (length L) 0)\n",
    "        (list)\n",
    "        (cons (f (car L)) (map_list f (cdr L)))))"
   ]
  },
  {
   "cell_type": "markdown",
   "metadata": {
    "deletable": true,
    "editable": true
   },
   "source": [
    "### Python -- our own map_list, but now as a generator\n",
    "Python generators empower the functional programming style very nicely, specifically by deferring computations until the value is actually needed. This is sometimes referred to as \"lazy evaluation\", and is a facility provided by some languages (e.g., with `delay` and `force` in Scheme)."
   ]
  },
  {
   "cell_type": "code",
   "execution_count": null,
   "metadata": {
    "collapsed": false,
    "deletable": true,
    "editable": true
   },
   "outputs": [],
   "source": [
    "def map_iter(f, L):\n",
    "    return (f(x) for x in L)\n",
    "\n",
    "map_iter(lambda z: z*z, range(10))"
   ]
  },
  {
   "cell_type": "code",
   "execution_count": null,
   "metadata": {
    "collapsed": false,
    "deletable": true,
    "editable": true
   },
   "outputs": [],
   "source": [
    "list(map_iter(lambda z: z*z, range(10)))"
   ]
  },
  {
   "cell_type": "code",
   "execution_count": null,
   "metadata": {
    "collapsed": false,
    "deletable": true,
    "editable": true
   },
   "outputs": [],
   "source": [
    "def map_iter(f, L):\n",
    "    for item in L:\n",
    "        yield f(item)\n",
    "\n",
    "map_iter(lambda z: z*z, range(10))"
   ]
  },
  {
   "cell_type": "code",
   "execution_count": null,
   "metadata": {
    "collapsed": false,
    "deletable": true,
    "editable": true,
    "scrolled": true
   },
   "outputs": [],
   "source": [
    "list(map_iter(lambda z: z*z, range(10)))"
   ]
  },
  {
   "cell_type": "markdown",
   "metadata": {
    "deletable": true,
    "editable": true
   },
   "source": [
    "### Python's built-in map is an iterator"
   ]
  },
  {
   "cell_type": "code",
   "execution_count": null,
   "metadata": {
    "collapsed": false,
    "deletable": true,
    "editable": true
   },
   "outputs": [],
   "source": [
    "map(lambda z: z*z, range(10))"
   ]
  },
  {
   "cell_type": "code",
   "execution_count": null,
   "metadata": {
    "collapsed": false,
    "deletable": true,
    "editable": true
   },
   "outputs": [],
   "source": [
    "list(map(lambda z: z*z, range(10)))"
   ]
  },
  {
   "cell_type": "markdown",
   "metadata": {
    "deletable": true,
    "editable": true
   },
   "source": [
    "Note that python's built-in `map` is more flexible than our `map_iter`, in that it can take multiple arguments corresponding to multiple-argument functions:"
   ]
  },
  {
   "cell_type": "code",
   "execution_count": null,
   "metadata": {
    "collapsed": false,
    "deletable": true,
    "editable": true
   },
   "outputs": [],
   "source": [
    "def foo(x, y, z):\n",
    "    return (x, y, z)\n",
    "\n",
    "list(map(foo, range(5), range(50, 55), ['a', 'b', 'c', 'd', 'e']))\n",
    "list(map(foo, range(5), range(50, 55), ['a', 'b']))\n"
   ]
  },
  {
   "cell_type": "markdown",
   "metadata": {
    "deletable": true,
    "editable": true
   },
   "source": [
    "### Carlae's built-in map creates output lists \n",
    "That is to say, in our Carlae language, we do not implement the delayed or lazy evaluation model. Rather, our Carlae `map`, `filter`, and `reduce` will operate on `lists`. You will implement `map` and these other functions as built-ins for Carlae in lab8."
   ]
  },
  {
   "cell_type": "markdown",
   "metadata": {
    "deletable": true,
    "editable": true
   },
   "source": [
    "## 2. Filter\n",
    "A second classic function in the \"map, filter, reduce\" paradigm is `filter`."
   ]
  },
  {
   "cell_type": "markdown",
   "metadata": {
    "deletable": true,
    "editable": true
   },
   "source": [
    "### Python version: `filter_list`"
   ]
  },
  {
   "cell_type": "code",
   "execution_count": null,
   "metadata": {
    "collapsed": false,
    "deletable": true,
    "editable": true
   },
   "outputs": [],
   "source": [
    "def filter_list(pred, L):\n",
    "    if len(L) == 0:\n",
    "        return []\n",
    "    elif pred(L[0]):\n",
    "        return [L[0]] + filter_list(pred, L[1:])\n",
    "    else:\n",
    "        return filter_list(pred, L[1:])\n",
    "\n",
    "def not_seven(z):\n",
    "    return not z == 7\n",
    "\n",
    "filter_list(not_seven, [1, 2, 7, 2, 7, 14, 7])\n",
    "#filter_list(not_seven, [])"
   ]
  },
  {
   "cell_type": "markdown",
   "metadata": {
    "deletable": true,
    "editable": true
   },
   "source": [
    "### Python version: `filter_iter`"
   ]
  },
  {
   "cell_type": "code",
   "execution_count": null,
   "metadata": {
    "collapsed": false,
    "deletable": true,
    "editable": true
   },
   "outputs": [],
   "source": [
    "def filter_iter(pred, L):\n",
    "    for item in L:\n",
    "        if pred(item):\n",
    "            yield item\n",
    "\n",
    "def not_seven(z):\n",
    "    return not z == 7\n",
    "\n",
    "filter_iter(not_seven, [1, 2, 7, 2, 7, 14, 7])\n",
    "list(filter_iter(not_seven, [1, 2, 7, 2, 7, 14, 7]))\n",
    "#list(filter_iter(not_seven, []))"
   ]
  },
  {
   "cell_type": "markdown",
   "metadata": {
    "deletable": true,
    "editable": true
   },
   "source": [
    "### Scheme version: `filter_list`"
   ]
  },
  {
   "cell_type": "code",
   "execution_count": null,
   "metadata": {
    "collapsed": true,
    "deletable": true,
    "editable": true
   },
   "outputs": [],
   "source": [
    ";; Scheme/Carlae\n",
    "(define (filter_list pred L)\n",
    "    (if (=? (length L) 0)\n",
    "        (list)\n",
    "        (if (pred (car L))\n",
    "            (cons (car L) (filter_list pred (cdr L)))\n",
    "            (filter_list pred (cdr L)))))\n",
    "\n",
    "(define (not_seven x) (not (=? x 7)))\n",
    "(filter_list not_seven (list 1 7 3 4 7))\n",
    "; out> (1 3 4)"
   ]
  },
  {
   "cell_type": "markdown",
   "metadata": {
    "deletable": true,
    "editable": true
   },
   "source": [
    "## 3. Reduce\n",
    "Finally, the last function we'll look at in the \"map, filter, reduce\" paradigm is `reduce`."
   ]
  },
  {
   "cell_type": "markdown",
   "metadata": {
    "deletable": true,
    "editable": true
   },
   "source": [
    "### Scheme version: `reduce_list`"
   ]
  },
  {
   "cell_type": "code",
   "execution_count": null,
   "metadata": {
    "collapsed": false,
    "deletable": true,
    "editable": true
   },
   "outputs": [],
   "source": [
    ";; Scheme/Carlae\n",
    "(define (reduce_list f L init)\n",
    "    (if (=? (length L) 0)\n",
    "        init\n",
    "        (reduce_list f (cdr L) (f init (car L)))))\n",
    "\n",
    "(reduce_list + (list 1 2 3) 0)\n",
    "; out> 6"
   ]
  },
  {
   "cell_type": "markdown",
   "metadata": {
    "deletable": true,
    "editable": true
   },
   "source": [
    "### Python reduce -- in functools"
   ]
  },
  {
   "cell_type": "code",
   "execution_count": null,
   "metadata": {
    "collapsed": false,
    "deletable": true,
    "editable": true
   },
   "outputs": [],
   "source": [
    "from functools import reduce\n",
    "\n",
    "def add(x, y):\n",
    "    return x + y\n",
    "reduce(add, [1, 2, 3], 0)"
   ]
  },
  {
   "cell_type": "markdown",
   "metadata": {
    "deletable": true,
    "editable": true
   },
   "source": [
    "## Example: sum of the even squares from 1 to 1,000,000:"
   ]
  },
  {
   "cell_type": "code",
   "execution_count": null,
   "metadata": {
    "collapsed": false,
    "deletable": true,
    "editable": true
   },
   "outputs": [],
   "source": [
    "reduce(add, filter(lambda x: x%2==0, map(sq, range(1, 1000001))), 0)"
   ]
  },
  {
   "cell_type": "code",
   "execution_count": null,
   "metadata": {
    "collapsed": false,
    "deletable": true,
    "editable": true
   },
   "outputs": [],
   "source": [
    "reduce(add, filter_list(lambda x: x%2==0, map_list(sq, range(1, 1000001))), 0)"
   ]
  },
  {
   "cell_type": "markdown",
   "metadata": {
    "deletable": true,
    "editable": true
   },
   "source": [
    "So one of the problems with our python recursive implementations of filter_list and map_list is that the recursion depth can grow very large, and may exceed the maximum recursion depth. This is one of the reasons for implementing these as generators and iterators instead:"
   ]
  },
  {
   "cell_type": "code",
   "execution_count": null,
   "metadata": {
    "collapsed": false,
    "deletable": true,
    "editable": true
   },
   "outputs": [],
   "source": [
    "reduce(add, filter_iter(lambda x: x%2==0, map_iter(sq, range(1, 1000001))), 0)"
   ]
  },
  {
   "cell_type": "markdown",
   "metadata": {
    "deletable": true,
    "editable": true
   },
   "source": [
    "## Example: *all* even squares:"
   ]
  },
  {
   "cell_type": "code",
   "execution_count": null,
   "metadata": {
    "collapsed": false,
    "deletable": true,
    "editable": true
   },
   "outputs": [],
   "source": [
    "def all_ints(start):\n",
    "    while True:\n",
    "        yield start\n",
    "        start += 1\n",
    "        \n",
    "def even(x): return x%2 == 0\n",
    "\n",
    "all_even_squares = filter_iter(even, map_iter(sq, all_ints(0)))\n",
    "print(\"all even squares:\", all_even_squares)\n",
    "print(\"first 10 even squares:\", [next(all_even_squares) for i in range(10)])"
   ]
  }
 ],
 "metadata": {
  "kernelspec": {
   "display_name": "Python 3",
   "language": "python",
   "name": "python3"
  },
  "language_info": {
   "codemirror_mode": {
    "name": "ipython",
    "version": 3
   },
   "file_extension": ".py",
   "mimetype": "text/x-python",
   "name": "python",
   "nbconvert_exporter": "python",
   "pygments_lexer": "ipython3",
   "version": "3.5.1"
  }
 },
 "nbformat": 4,
 "nbformat_minor": 2
}
