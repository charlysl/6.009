{
 "cells": [
  {
   "cell_type": "markdown",
   "metadata": {
    "deletable": true,
    "editable": true
   },
   "source": [
    "## Object-Oriented Design: War Card Game\n",
    "\n",
    "Now let's design a card game. If you've never played War before: the\n",
    "deck is split evenly between two players. On each turn, both players\n",
    "reveal their first card. The player with the highest rank takes both\n",
    "cards and adds them to his or her deck. If there is a tie, the players\n",
    "reveal their next cards. If there is no longer a tie, the player with\n",
    "the highest rank takes all 4 cards. Otherwise, both players continue\n",
    "revealing their next cards. The game continues until one player has\n",
    "collected all 52 cards.\n",
    "\n",
    "What classes and methods do we need? Each card has a rank and a suit,\n",
    "so it makes sense to make a **Card** class with these attributes. In our\n",
    "game, \"greater\" cards are those with higher rank; cards with the same\n",
    "rank are \"equal\".\n",
    "\n",
    "A **Hand** is a collection of Cards, so that is another class. We can give\n",
    "and take cards from a Hand, and also shuffle the cards in a Hand. We'll\n",
    "want to know how many Cards are in a Hand, so we'll need a `num_cards` method,\n",
    "among others.\n",
    "\n",
    "A **Deck** is a special kind of Hand, populated with (in our case) the \n",
    "standard 52 cards. We can `deal` cards from a Deck.\n",
    "\n",
    "A **Player** is also a Hand of cards, but with a (person) name also.\n",
    "\n",
    "Finally, the **Game** class implements all of the game logic. This class\n",
    "implements methods for dealing hands, taking a turn, and playing a\n",
    "game to determine a winner."
   ]
  },
  {
   "cell_type": "markdown",
   "metadata": {
    "deletable": true,
    "editable": true
   },
   "source": [
    "### Card class"
   ]
  },
  {
   "cell_type": "code",
   "execution_count": 1,
   "metadata": {
    "collapsed": true,
    "deletable": true,
    "editable": true
   },
   "outputs": [],
   "source": [
    "class Card():\n",
    "    suit_str = {'S': \"\\u2660\", 'H': \"\\u2661\", 'C': \"\\u2663\", 'D': \"\\u2662\"}\n",
    "    rank_str = {n: str(n) for n in range(2,11)}\n",
    "    rank_str[11] = 'J'; rank_str[12] = 'Q'; rank_str[13] = 'K'; rank_str[14] = 'A' \n",
    "    \n",
    "    def __init__(self, rank, suit):\n",
    "        \"\"\" rank: integer from 2 to (including) 14\n",
    "            suit: 'S' for Spades, or 'H' for Hearts, \n",
    "                  or 'C' for Clubs, or 'D' for Diamonds\n",
    "        \"\"\"\n",
    "        assert suit in \"SHCD\"\n",
    "        assert rank in range(2,15)\n",
    "        self.rank = rank\n",
    "        self.suit = suit\n",
    "        \n",
    "    def __gt__(self, other): #other might be None\n",
    "        return self.rank > other.rank if other else True\n",
    "    \n",
    "    def __lt__(self, other):\n",
    "        return self.rank < other.rank if other else False\n",
    "\n",
    "    def __eq__(self, other):\n",
    "        return self.rank == other.rank if other else False\n",
    "    \n",
    "    def __str__(self):\n",
    "        return \"{}{}\".format(self.rank_str[self.rank], self.suit_str[self.suit])\n",
    "    \n",
    "    def __repr__(self):\n",
    "        return \"Card({},'{}')\".format(self.rank, self.suit)"
   ]
  },
  {
   "cell_type": "code",
   "execution_count": 2,
   "metadata": {
    "collapsed": false,
    "deletable": true,
    "editable": true
   },
   "outputs": [
    {
     "data": {
      "text/plain": [
       "True"
      ]
     },
     "execution_count": 2,
     "metadata": {},
     "output_type": "execute_result"
    }
   ],
   "source": [
    "Card(2,'H') == Card(2,'S')"
   ]
  },
  {
   "cell_type": "code",
   "execution_count": 3,
   "metadata": {
    "collapsed": false,
    "deletable": true,
    "editable": true
   },
   "outputs": [
    {
     "data": {
      "text/plain": [
       "'2♡'"
      ]
     },
     "execution_count": 3,
     "metadata": {},
     "output_type": "execute_result"
    }
   ],
   "source": [
    "Card(2,'H') < None\n",
    "Card(2, 'H')\n",
    "str(Card(2, 'H'))\n"
   ]
  },
  {
   "cell_type": "code",
   "execution_count": 4,
   "metadata": {
    "collapsed": false,
    "deletable": true,
    "editable": true
   },
   "outputs": [
    {
     "name": "stdout",
     "output_type": "stream",
     "text": [
      "cards: [Card(3,'S'), Card(14,'D'), Card(10,'D'), Card(14,'H')]\n",
      "max: A♢\n",
      "min: 3♠\n",
      "position of max card: 1\n",
      "sorted: ['3♠', '10♢', 'A♢', 'A♡']\n",
      "reverse sorted: [Card(14,'D'), Card(14,'H'), Card(10,'D'), Card(3,'S')]\n"
     ]
    }
   ],
   "source": [
    "cards = [Card(3,'S'), Card(14,'D'), Card(10,'D'), Card(14,'H')]\n",
    "print(\"cards:\", cards) # note: str(<list>) creates a string of the list of <repr of list elements>\n",
    "print(\"max:\", max(cards))\n",
    "print(\"min:\", min(cards))\n",
    "print(\"position of max card:\", cards.index(max(cards)))\n",
    "print(\"sorted:\", [str(c) for c in sorted(cards)])\n",
    "print(\"reverse sorted:\", [c for c in sorted(cards, reverse=True)])"
   ]
  },
  {
   "cell_type": "markdown",
   "metadata": {
    "deletable": true,
    "editable": true
   },
   "source": [
    "### Hand class"
   ]
  },
  {
   "cell_type": "code",
   "execution_count": 5,
   "metadata": {
    "collapsed": true,
    "deletable": true,
    "editable": true
   },
   "outputs": [],
   "source": [
    "import random\n",
    "class Hand():\n",
    "    def __init__(self):\n",
    "        self.cards = []\n",
    "\n",
    "    def receive_cards(self, cards):\n",
    "        \"\"\" Receive cards into hand, and shuffle them \"\"\"\n",
    "        for c in cards:\n",
    "            self.receive_card(c)\n",
    "        self.shuffle()\n",
    "   \n",
    "    def receive_card(self, card):\n",
    "        \"\"\" Receive card into hand (if it's not None) \"\"\"\n",
    "        if card:\n",
    "            self.cards.append(card)\n",
    "        \n",
    "    def shuffle(self):\n",
    "        \"\"\" Shuffle the deck by rearranging the cards in random order. \"\"\"\n",
    "        random.shuffle(self.cards)\n",
    "\n",
    "    def give_card(self):\n",
    "        \"\"\" Remove and return the card at the top of the hand. If there\n",
    "            are no more cards, return None \"\"\"\n",
    "        return self.cards.pop(0) if self.num_cards() > 0 else None\n",
    "    \n",
    "    def give_back_cards(self):\n",
    "        \"\"\" Remove and returns all cards in the hand \"\"\"\n",
    "        cards = self.cards\n",
    "        self.cards = []\n",
    "        return cards\n",
    "\n",
    "    def num_cards(self):\n",
    "        return len(self.cards)\n",
    "    \n",
    "    # Alternative; make method look like an attribute/property\n",
    "    @property\n",
    "    def alt_num_cards(self):\n",
    "        #more computation possible\n",
    "        return len(self.cards)\n",
    "\n",
    "    def __str__(self):\n",
    "        return str([str(card) for card in self.cards])"
   ]
  },
  {
   "cell_type": "code",
   "execution_count": 6,
   "metadata": {
    "collapsed": false,
    "deletable": true,
    "editable": true
   },
   "outputs": [
    {
     "name": "stdout",
     "output_type": "stream",
     "text": [
      "num_cards: 1\n",
      "alt_num_cards: 1\n"
     ]
    }
   ],
   "source": [
    "h = Hand()\n",
    "c = Card(2,'S')\n",
    "h.receive_card(c)\n",
    "print(\"num_cards:\", h.num_cards())\n",
    "print(\"alt_num_cards:\", h.alt_num_cards)"
   ]
  },
  {
   "cell_type": "markdown",
   "metadata": {
    "deletable": true,
    "editable": true
   },
   "source": [
    "### Deck class"
   ]
  },
  {
   "cell_type": "code",
   "execution_count": 7,
   "metadata": {
    "collapsed": true,
    "deletable": true,
    "editable": true
   },
   "outputs": [],
   "source": [
    "class Deck(Hand):\n",
    "    def __init__(self):\n",
    "        super().__init__()\n",
    "        self.receive_cards(Deck.build_deck())\n",
    "\n",
    "    @staticmethod\n",
    "    def build_deck():\n",
    "        \"\"\"\n",
    "        Return a list of the 52 cards in a standard deck.\n",
    "\n",
    "        Suits are \"H\" (Hearts), \"S\" (Spades), \"C\" (Clubs), \"D\" (Diamonds).\n",
    "        Ranks in order of increasing strength the numbered cards \n",
    "        2-10, 11 Jack, 12 Queen, 13 King, and 14 Ace.\n",
    "        \"\"\"\n",
    "        suits = {\"H\", \"S\", \"C\", \"D\"}\n",
    "        return [Card(rank, suit) for rank in range(2,15) for suit in suits]\n",
    "\n",
    "    def deal(self):\n",
    "        return self.give_card()"
   ]
  },
  {
   "cell_type": "code",
   "execution_count": 8,
   "metadata": {
    "collapsed": false,
    "deletable": true,
    "editable": true
   },
   "outputs": [
    {
     "name": "stdout",
     "output_type": "stream",
     "text": [
      "['3♣', 'Q♢', 'J♢', '5♣', '9♢', '3♡', '5♠', '6♣', '3♢', '8♡', '2♠', '4♠', '3♠', 'K♠', 'A♣', '8♣', '9♡', '2♡', '10♢', '7♣', '10♠', 'Q♣', 'A♠', '7♠', '7♢', 'Q♠', 'K♣', '5♡', 'J♣', '9♣', '8♢', '9♠', '8♠', '2♢', '5♢', '10♣', '4♣', 'A♢', 'Q♡', 'J♠', '4♡', '10♡', 'J♡', '4♢', '7♡', '2♣', '6♢', 'K♡', 'A♡', '6♡', 'K♢', '6♠']\n"
     ]
    }
   ],
   "source": [
    "d = Deck()\n",
    "print(d)"
   ]
  },
  {
   "cell_type": "markdown",
   "metadata": {
    "deletable": true,
    "editable": true
   },
   "source": [
    "### Player class"
   ]
  },
  {
   "cell_type": "code",
   "execution_count": 9,
   "metadata": {
    "collapsed": true,
    "deletable": true,
    "editable": true
   },
   "outputs": [],
   "source": [
    "class Player(Hand):\n",
    "    def __init__(self, name):\n",
    "        self.name = name\n",
    "        super().__init__()\n",
    "\n",
    "    def draw_card(self, card):\n",
    "        \"\"\" Add card to the player's hand. \"\"\"\n",
    "        self.receive_card(card)\n",
    "\n",
    "    def reveal_card(self):\n",
    "        \"\"\" Remove and return the first card in the hand. \"\"\"\n",
    "        return self.give_card()\n",
    "\n",
    "    def __repr__(self):\n",
    "        return \"Player(\" + repr(self.name) + \")\""
   ]
  },
  {
   "cell_type": "markdown",
   "metadata": {
    "deletable": true,
    "editable": true
   },
   "source": [
    "### Game class"
   ]
  },
  {
   "cell_type": "code",
   "execution_count": 10,
   "metadata": {
    "collapsed": true,
    "deletable": true,
    "editable": true
   },
   "outputs": [],
   "source": [
    "class Game():\n",
    "    def __init__(self, players):\n",
    "        self.players = players\n",
    "        self.deck = Deck()\n",
    "\n",
    "    def deal_hands(self):\n",
    "        \"\"\" \n",
    "        Deal cards to both players. Each player takes one card at \n",
    "        a time from the deck.\n",
    "        \"\"\"\n",
    "        while self.deck.num_cards() > 0:\n",
    "            for p in self.players:\n",
    "                p.draw_card(self.deck.deal())\n",
    "\n",
    "    def turn(self, do_print=False):\n",
    "        \"\"\"\n",
    "        Reveal cards from both players. The player with the higher \n",
    "        rank takes all the cards in the pile.\n",
    "        \"\"\"\n",
    "        pile = [p.reveal_card() for p in self.players]\n",
    "   \n",
    "        # If there is a tie, get the next cards from each\n",
    "        # player and add them to the cards pile.\n",
    "        while pile[0] == pile[1]:\n",
    "            if do_print: print(\"war:\", [str(c) for c in pile], \"TIE!\")\n",
    "            for i in range(len(self.players)):\n",
    "                pile.insert(i, self.players[i].reveal_card())\n",
    "\n",
    "        winner = self.players[0] if pile[0] > pile[1] else self.players[1]\n",
    "        winner.receive_cards(pile)\n",
    "        if do_print: print(\"war:\", [str(c) for c in pile], \"=>\", winner.name)\n",
    "\n",
    "    def play(self, do_print=False):\n",
    "        \"\"\"\n",
    "        Keep taking turns until a player has won (has all 52 cards)\n",
    "        \"\"\"\n",
    "        self.deal_hands()\n",
    "        while all(p.num_cards() < 52 for p in self.players):\n",
    "            self.turn(do_print)\n",
    "    \n",
    "        for p in self.players:\n",
    "            if p.num_cards() == 52:\n",
    "                if do_print: print(p.name + \" wins!\")\n",
    "                return p\n",
    "        \n",
    "    def play_n_times(self, n):\n",
    "        for p in self.players:\n",
    "            p.wins = 0\n",
    "\n",
    "        for i in range(n):\n",
    "            # Return all cards players are holding back to the deck\n",
    "            for p in self.players:\n",
    "                self.deck.receive_cards(p.give_back_cards())\n",
    "            self.deal_hands()\n",
    "            winner = self.play()\n",
    "            winner.wins += 1\n",
    "        print(\"\\nPlayed\", n, \"hands\")\n",
    "        for p in self.players:\n",
    "            print(\"  \", p.name, \"wins:\", p.wins)"
   ]
  },
  {
   "cell_type": "markdown",
   "metadata": {
    "deletable": true,
    "editable": true
   },
   "source": [
    "### Let's try it out..."
   ]
  },
  {
   "cell_type": "code",
   "execution_count": null,
   "metadata": {
    "collapsed": false,
    "deletable": true,
    "editable": true
   },
   "outputs": [],
   "source": [
    "game = Game([Player(\"Amy\"), Player(\"Joe\")])\n",
    "game.play(do_print = True)"
   ]
  },
  {
   "cell_type": "markdown",
   "metadata": {
    "deletable": true,
    "editable": true
   },
   "source": [
    "## Many games\n",
    "Let's extend so we can run many games and see who wins the most"
   ]
  },
  {
   "cell_type": "code",
   "execution_count": 12,
   "metadata": {
    "collapsed": false,
    "deletable": true,
    "editable": true
   },
   "outputs": [
    {
     "name": "stdout",
     "output_type": "stream",
     "text": [
      "\n",
      "Played 3 hands\n",
      "   Amy wins: 2\n",
      "   Joe wins: 1\n",
      "\n",
      "Played 30 hands\n",
      "   Amy wins: 14\n",
      "   Joe wins: 16\n",
      "\n",
      "Played 100 hands\n",
      "   Amy wins: 49\n",
      "   Joe wins: 51\n"
     ]
    }
   ],
   "source": [
    "game = Game([Player(\"Amy\"), Player(\"Joe\")])\n",
    "game.play_n_times(3)\n",
    "game.play_n_times(30)\n",
    "game.play_n_times(100)"
   ]
  },
  {
   "cell_type": "markdown",
   "metadata": {
    "deletable": true,
    "editable": true
   },
   "source": [
    "### Try with more than two players"
   ]
  },
  {
   "cell_type": "code",
   "execution_count": 13,
   "metadata": {
    "collapsed": false,
    "deletable": true,
    "editable": true,
    "scrolled": true
   },
   "outputs": [
    {
     "name": "stdout",
     "output_type": "stream",
     "text": [
      "\n",
      "Played 3 hands\n",
      "   Amy wins: 2\n",
      "   Brad wins: 1\n",
      "   Carl wins: 0\n",
      "\n",
      "Played 30 hands\n",
      "   Amy wins: 20\n",
      "   Brad wins: 10\n",
      "   Carl wins: 0\n",
      "\n",
      "Played 100 hands\n",
      "   Amy wins: 54\n",
      "   Brad wins: 46\n",
      "   Carl wins: 0\n"
     ]
    }
   ],
   "source": [
    "game = Game([Player(\"Amy\"), Player(\"Brad\"), Player(\"Carl\")])\n",
    "game.play_n_times(3)\n",
    "game.play_n_times(30)\n",
    "game.play_n_times(100)"
   ]
  },
  {
   "cell_type": "markdown",
   "metadata": {
    "deletable": true,
    "editable": true
   },
   "source": [
    "Oops. We hard coded the game to only expect two players, so Carl can never win! We'll leave it as an exercise for the reader to go back and generalize `Game` to fix."
   ]
  }
 ],
 "metadata": {
  "kernelspec": {
   "display_name": "Python 3",
   "language": "python",
   "name": "python3"
  },
  "language_info": {
   "codemirror_mode": {
    "name": "ipython",
    "version": 3
   },
   "file_extension": ".py",
   "mimetype": "text/x-python",
   "name": "python",
   "nbconvert_exporter": "python",
   "pygments_lexer": "ipython3",
   "version": "3.5.1"
  }
 },
 "nbformat": 4,
 "nbformat_minor": 2
}
