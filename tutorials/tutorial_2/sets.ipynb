{
 "cells": [
  {
   "cell_type": "markdown",
   "metadata": {
    "deletable": true,
    "editable": true
   },
   "source": [
    "# Sets\n",
    "\n",
    "A set is an unordered collection with no duplicate elements. Basic uses include membership testing and eliminating duplicate entries. Set objects also support mathematical operations like union, intersection, difference, and symmetric difference. Sets can also have important efficiency benefits."
   ]
  },
  {
   "cell_type": "markdown",
   "metadata": {
    "deletable": true,
    "editable": true
   },
   "source": [
    "## One Motivation -- Lists can be slooooooow....\n",
    "One motivation for using sets is that several important operations (adding an element, determining whether an element is in the set) take *constant time* regardless of the size of the set, rather than linear time in the size of the list."
   ]
  },
  {
   "cell_type": "code",
   "execution_count": 1,
   "metadata": {
    "collapsed": false,
    "deletable": true,
    "editable": true
   },
   "outputs": [],
   "source": [
    "big_num = 10000000 # ten million\n",
    "big_num_list = list(range(big_num)) \n",
    "big_num_set = set(big_num_list)"
   ]
  },
  {
   "cell_type": "code",
   "execution_count": 2,
   "metadata": {
    "collapsed": false,
    "deletable": true,
    "editable": true
   },
   "outputs": [
    {
     "name": "stdout",
     "output_type": "stream",
     "text": [
      "counting...\n",
      "count using list: 100 time: 26.44185996055603 sec\n"
     ]
    }
   ],
   "source": [
    "small_num = 100\n",
    "small_num_list = list(range(big_num - small_num, big_num)) \n",
    "\n",
    "# how many of small_num_list elements are in big_num_list?\n",
    "import time\n",
    "start = time.time()\n",
    "count = 0\n",
    "print(\"counting...\")\n",
    "for i in small_num_list:\n",
    "    count = count + 1 if i in big_num_list else 0\n",
    "end = time.time()\n",
    "print(\"count using list:\", count, \"time:\", end-start, \"sec\")"
   ]
  },
  {
   "cell_type": "code",
   "execution_count": 3,
   "metadata": {
    "collapsed": false,
    "deletable": true,
    "editable": true
   },
   "outputs": [
    {
     "name": "stdout",
     "output_type": "stream",
     "text": [
      "counting...\n",
      "count using set: 100 time: 0.0015420913696289062 sec\n",
      "count using set intersection: 100 time: 0.004267692565917969 sec\n"
     ]
    }
   ],
   "source": [
    "# how many of small_num_list elements are in big_num_set?\n",
    "start = time.time()\n",
    "count = 0\n",
    "## small_num_list = big_num_list\n",
    "print(\"counting...\")\n",
    "for i in small_num_list:\n",
    "    count = count + 1 if i in big_num_set else 0\n",
    "end = time.time()\n",
    "print(\"count using set:\", count, \"time:\", end-start, \"sec\")\n",
    "count_intersection = len(big_num_set.intersection(set(small_num_list)))\n",
    "end2 = time.time()\n",
    "print(\"count using set intersection:\", count_intersection, \"time:\", end2-end, \"sec\")"
   ]
  },
  {
   "cell_type": "markdown",
   "metadata": {
    "deletable": true,
    "editable": true
   },
   "source": [
    "## Another Motivation -- Conceptual clarity with set operations"
   ]
  },
  {
   "cell_type": "code",
   "execution_count": 4,
   "metadata": {
    "collapsed": false,
    "deletable": true,
    "editable": true
   },
   "outputs": [
    {
     "name": "stdout",
     "output_type": "stream",
     "text": [
      "{'pear', 'orange', 'apple'}\n"
     ]
    }
   ],
   "source": [
    "# Lists can have duplicate elements, and lists are ordered\n",
    "basket = ['apple', 'orange', 'apple', 'pear', 'orange']\n",
    "\n",
    "# Creating a set from a list results in a set without duplicate elements\n",
    "fruit1 = set(basket)\n",
    "print(fruit1)"
   ]
  },
  {
   "cell_type": "code",
   "execution_count": 5,
   "metadata": {
    "collapsed": false,
    "deletable": true,
    "editable": true
   },
   "outputs": [
    {
     "name": "stdout",
     "output_type": "stream",
     "text": [
      "{'pear', 'orange', 'apple'}\n"
     ]
    }
   ],
   "source": [
    "# Adding the same element again to a set doesn't change the set\n",
    "fruit1.add('apple')\n",
    "print(fruit1)"
   ]
  },
  {
   "cell_type": "code",
   "execution_count": 6,
   "metadata": {
    "collapsed": false,
    "deletable": true,
    "editable": true
   },
   "outputs": [
    {
     "name": "stdout",
     "output_type": "stream",
     "text": [
      "{'pear', 'orange', 'banana', 'apple'}\n"
     ]
    }
   ],
   "source": [
    "# But adding a different element does change (mutate) the set...\n",
    "fruit1.add('banana')\n",
    "print(fruit1)"
   ]
  },
  {
   "cell_type": "code",
   "execution_count": 7,
   "metadata": {
    "collapsed": false,
    "deletable": true,
    "editable": true
   },
   "outputs": [
    {
     "name": "stdout",
     "output_type": "stream",
     "text": [
      "{'pear', 'orange', 'banana'}\n"
     ]
    }
   ],
   "source": [
    "# Can discard/remove elements\n",
    "fruit1.discard('grape')  #no exception if element not in set\n",
    "fruit1.remove('apple') #exception if element not in set\n",
    "print(fruit1)"
   ]
  },
  {
   "cell_type": "code",
   "execution_count": 8,
   "metadata": {
    "collapsed": false,
    "deletable": true,
    "editable": true
   },
   "outputs": [
    {
     "ename": "TypeError",
     "evalue": "'set' object is not subscriptable",
     "output_type": "error",
     "traceback": [
      "\u001b[0;31m---------------------------------------------------------------------------\u001b[0m",
      "\u001b[0;31mTypeError\u001b[0m                                 Traceback (most recent call last)",
      "\u001b[0;32m<ipython-input-8-573d82862ca7>\u001b[0m in \u001b[0;36m<module>\u001b[0;34m()\u001b[0m\n\u001b[1;32m      1\u001b[0m \u001b[1;31m# Sets are unordered: cannot index or slice into a set\u001b[0m\u001b[1;33m\u001b[0m\u001b[1;33m\u001b[0m\u001b[0m\n\u001b[0;32m----> 2\u001b[0;31m \u001b[0mfruit1\u001b[0m\u001b[1;33m[\u001b[0m\u001b[1;36m0\u001b[0m\u001b[1;33m:\u001b[0m\u001b[1;33m]\u001b[0m\u001b[1;33m\u001b[0m\u001b[0m\n\u001b[0m",
      "\u001b[0;31mTypeError\u001b[0m: 'set' object is not subscriptable"
     ]
    }
   ],
   "source": [
    "# Sets are unordered: cannot index or slice into a set\n",
    "fruit1[0:]"
   ]
  },
  {
   "cell_type": "code",
   "execution_count": 9,
   "metadata": {
    "collapsed": false,
    "deletable": true,
    "editable": true
   },
   "outputs": [
    {
     "name": "stdout",
     "output_type": "stream",
     "text": [
      "orange\n",
      "banana\n",
      "['orange', 'banana']\n",
      "{'orange', 'banana'}\n"
     ]
    }
   ],
   "source": [
    "# Can still iterate over the elements in a set, in loops or comprehensions\n",
    "for elt in fruit1:\n",
    "    if 'n' in elt: \n",
    "        print(elt)\n",
    "        \n",
    "print([elt for elt in fruit1 if 'n' in elt])\n",
    "print({elt for elt in fruit1 if 'n' in elt})"
   ]
  },
  {
   "cell_type": "markdown",
   "metadata": {
    "deletable": true,
    "editable": true
   },
   "source": [
    "### Basic set operations"
   ]
  },
  {
   "cell_type": "code",
   "execution_count": 10,
   "metadata": {
    "collapsed": false,
    "deletable": true,
    "editable": true
   },
   "outputs": [
    {
     "name": "stdout",
     "output_type": "stream",
     "text": [
      "fruit1 = {'pear', 'orange', 'banana'}\n",
      "fruit2 = {'grape', 'orange', 'berry', 'apple'}\n"
     ]
    }
   ],
   "source": [
    "fruit2 = {'orange', 'apple', 'berry', 'grape', 'orange'}\n",
    "print(\"fruit1 =\", fruit1)\n",
    "print(\"fruit2 =\", fruit2)"
   ]
  },
  {
   "cell_type": "code",
   "execution_count": 11,
   "metadata": {
    "collapsed": false,
    "deletable": true,
    "editable": true
   },
   "outputs": [
    {
     "name": "stdout",
     "output_type": "stream",
     "text": [
      "Intersection: {'orange'}\n",
      "Union: {'grape', 'orange', 'berry', 'pear', 'banana', 'apple'}\n",
      "Difference, fruit1 - fruit2: {'pear', 'banana'}\n",
      "Difference, fruit2 - fruit1: {'grape', 'berry', 'apple'}\n",
      "Symmetric Difference: {'grape', 'berry', 'pear', 'banana', 'apple'}\n"
     ]
    }
   ],
   "source": [
    "#Intersection\n",
    "print(\"Intersection:\", fruit1 & fruit2)\n",
    "\n",
    "#Union\n",
    "print(\"Union:\", fruit1 | fruit2)\n",
    "\n",
    "#Difference\n",
    "print(\"Difference, fruit1 - fruit2:\", fruit1 - fruit2)\n",
    "print(\"Difference, fruit2 - fruit1:\", fruit2 - fruit1)\n",
    "\n",
    "#Symmetric Difference\n",
    "print(\"Symmetric Difference:\", fruit1 ^ fruit2)"
   ]
  },
  {
   "cell_type": "markdown",
   "metadata": {
    "deletable": true,
    "editable": true
   },
   "source": [
    "### Some set relations"
   ]
  },
  {
   "cell_type": "code",
   "execution_count": 12,
   "metadata": {
    "collapsed": false,
    "deletable": true,
    "editable": true
   },
   "outputs": [
    {
     "name": "stdout",
     "output_type": "stream",
     "text": [
      "fruit1 = {'pear', 'orange', 'banana'}\n",
      "fruit2 = {'grape', 'orange', 'berry', 'apple'}\n",
      "fruit3 = {'pear', 'banana'}\n"
     ]
    }
   ],
   "source": [
    "fruit3 = set()  #Create an empty set with 'set()' NOT with '{}'\n",
    "fruit3.add('banana')\n",
    "fruit3.add('pear')\n",
    "\n",
    "print(\"fruit1 =\", fruit1)\n",
    "print(\"fruit2 =\", fruit2)\n",
    "print(\"fruit3 =\", fruit3)"
   ]
  },
  {
   "cell_type": "code",
   "execution_count": 13,
   "metadata": {
    "collapsed": false,
    "deletable": true,
    "editable": true
   },
   "outputs": [
    {
     "data": {
      "text/plain": [
       "True"
      ]
     },
     "execution_count": 13,
     "metadata": {},
     "output_type": "execute_result"
    }
   ],
   "source": [
    "#Subset\n",
    "fruit3.issubset(fruit1)"
   ]
  },
  {
   "cell_type": "code",
   "execution_count": 14,
   "metadata": {
    "collapsed": false,
    "deletable": true,
    "editable": true
   },
   "outputs": [
    {
     "data": {
      "text/plain": [
       "True"
      ]
     },
     "execution_count": 14,
     "metadata": {},
     "output_type": "execute_result"
    }
   ],
   "source": [
    "#Disjoint\n",
    "fruit3.isdisjoint(fruit2)"
   ]
  },
  {
   "cell_type": "code",
   "execution_count": 15,
   "metadata": {
    "collapsed": false,
    "deletable": true,
    "editable": true
   },
   "outputs": [
    {
     "data": {
      "text/plain": [
       "True"
      ]
     },
     "execution_count": 15,
     "metadata": {},
     "output_type": "execute_result"
    }
   ],
   "source": [
    "#Superset\n",
    "fruit1.issuperset(fruit3)"
   ]
  },
  {
   "cell_type": "markdown",
   "metadata": {
    "deletable": true,
    "editable": true
   },
   "source": [
    "## What kind of objects can be in a set?\n",
    "The elements of sets must be immutable hashable objects. Thus numbers, strings, tuples (as long as all elements of the tuple are also immutable/hashable objects) can be members of sets, but lists cannot be members of sets. And sets cannot be members of sets!\n",
    "(See frozensets if you're interested in an immutable/hashable variant of sets, that *can* be elements of a set.) The hashable restriction is what makes it possible to determine whether an element is in a set using constant time with respect to the size of the set; i.e., one does not need to iterate over all elements of a set to determine whether that element is in the set. (See 6.006 for more details on how this hashing works.)"
   ]
  },
  {
   "cell_type": "markdown",
   "metadata": {
    "deletable": true,
    "editable": true
   },
   "source": [
    "# Example: Is the number met before\n",
    "This section takes advantage of sets to solve a simple problem. Here we input a list of integers, your job is to return a list of Booleans which gives True if the number is met earlier in the input list and False if not. \n",
    "\n",
    "First we generate a random list of integers, ranging from 0 to max_num. You could customize these two parameters to make you own inputs."
   ]
  },
  {
   "cell_type": "code",
   "execution_count": 16,
   "metadata": {
    "collapsed": false,
    "deletable": true,
    "editable": true
   },
   "outputs": [
    {
     "name": "stdout",
     "output_type": "stream",
     "text": [
      "[4, 10, 3, 9, 1, 1, 6, 5, 8, 2, 10, 3, 7, 5, 5, 0, 9, 8, 1, 3]\n"
     ]
    }
   ],
   "source": [
    "import random\n",
    "max_num = 10\n",
    "size = 20\n",
    "\n",
    "#Randomly generate an integer list\n",
    "input = [random.randint(0,max_num) for i in range(size)]\n",
    "print(input)"
   ]
  },
  {
   "cell_type": "markdown",
   "metadata": {
    "deletable": true,
    "editable": true
   },
   "source": [
    "Then, we use a set to store the numbers that we met before, and determine whether the next integer is met or not via the membership testing of set which takes constant time. "
   ]
  },
  {
   "cell_type": "code",
   "execution_count": 18,
   "metadata": {
    "collapsed": false,
    "deletable": true,
    "editable": true
   },
   "outputs": [
    {
     "name": "stdout",
     "output_type": "stream",
     "text": [
      "input: [4, 10, 3, 9, 1, 1, 6, 5, 8, 2, 10, 3, 7, 5, 5, 0, 9, 8, 1, 3]\n",
      "result: [False, False, False, False, False, True, False, False, False, False, True, True, False, True, True, False, True, True, True, True]\n"
     ]
    }
   ],
   "source": [
    "met = set() #Create an empty set\n",
    "result = [False]*len(input) #Initialize a list with the same length of input\n",
    "for index, number in enumerate(input):\n",
    "    if number in met:\n",
    "        result[index] = True #Remember that the number has been met again\n",
    "    else:\n",
    "        met.add(number) #If not, add it to the set\n",
    "print(\"input:\", input)\n",
    "print(\"result:\", result)"
   ]
  },
  {
   "cell_type": "markdown",
   "metadata": {
    "deletable": true,
    "editable": true
   },
   "source": [
    "Note: different implementations are possible, and might have different efficiencies. For example, we could create the result list one item at a time, but at the cost of repeated appends:"
   ]
  },
  {
   "cell_type": "code",
   "execution_count": 19,
   "metadata": {
    "collapsed": false,
    "deletable": true,
    "editable": true
   },
   "outputs": [
    {
     "name": "stdout",
     "output_type": "stream",
     "text": [
      "input: [4, 10, 3, 9, 1, 1, 6, 5, 8, 2, 10, 3, 7, 5, 5, 0, 9, 8, 1, 3]\n",
      "result: [False, False, False, False, False, True, False, False, False, False, True, True, False, True, True, False, True, True, True, True]\n"
     ]
    }
   ],
   "source": [
    "met = set()\n",
    "result = []\n",
    "for index, number in enumerate(input):\n",
    "    if number in met:\n",
    "        result.append(True)\n",
    "    else:\n",
    "        met.add(number) #If not, add it to the set\n",
    "        result.append(False)\n",
    "print(\"input:\", input)\n",
    "print(\"result:\", result)"
   ]
  },
  {
   "cell_type": "code",
   "execution_count": 20,
   "metadata": {
    "collapsed": false,
    "deletable": true,
    "editable": true,
    "scrolled": true
   },
   "outputs": [
    {
     "name": "stdout",
     "output_type": "stream",
     "text": [
      "input: [4, 10, 3, 9, 1, 1, 6, 5, 8, 2, 10, 3, 7, 5, 5, 0, 9, 8, 1, 3]\n",
      "result: [False, False, False, False, False, True, False, False, False, False, True, True, False, True, True, False, True, True, True, True]\n"
     ]
    }
   ],
   "source": [
    "#Even more (too?) pythonic; many frown upon mutating inside a comprehension\n",
    "met = set()\n",
    "result = [True if val in met else (False, met.add(val))[0] for val in input]\n",
    "print(\"input:\", input)\n",
    "print(\"result:\", result)"
   ]
  }
 ],
 "metadata": {
  "anaconda-cloud": {},
  "kernelspec": {
   "display_name": "Python 3",
   "language": "python",
   "name": "python3"
  },
  "language_info": {
   "codemirror_mode": {
    "name": "ipython",
    "version": 3
   },
   "file_extension": ".py",
   "mimetype": "text/x-python",
   "name": "python",
   "nbconvert_exporter": "python",
   "pygments_lexer": "ipython3",
   "version": "3.5.1"
  }
 },
 "nbformat": 4,
 "nbformat_minor": 1
}
