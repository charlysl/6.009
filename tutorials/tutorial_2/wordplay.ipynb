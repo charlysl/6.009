{
 "cells": [
  {
   "cell_type": "markdown",
   "metadata": {
    "deletable": true,
    "editable": true
   },
   "source": [
    "## Wordplay\n",
    "Extended from code at http://programminghistorian.org/lessons/counting-frequencies"
   ]
  },
  {
   "cell_type": "markdown",
   "metadata": {
    "deletable": true,
    "editable": true
   },
   "source": [
    "Suppose we have two books -- maybe we'd like to see if they were written by the same author, or are otherwise similar. One approach to this is to evaluate the word use frequency in both texts, and then compute a \"similarity\" or \"distance\" measure between those two word frequencies. A related approach is to evaluate the frequency of one word being followed by another word (a \"word pair\"), and see the similarity in use of word pairs by the two texts. Or maybe we're interested in seeing the set of all words that come after a given word in that text.\n",
    "\n",
    "Here we'll get some practice using <b>dictionaries</b> and <b>sets</b>, with such wordplay as our motivating example."
   ]
  },
  {
   "cell_type": "markdown",
   "metadata": {
    "deletable": true,
    "editable": true
   },
   "source": [
    "Some data to play with..."
   ]
  },
  {
   "cell_type": "code",
   "execution_count": 1,
   "metadata": {
    "collapsed": false,
    "deletable": true,
    "editable": true,
    "scrolled": true
   },
   "outputs": [
    {
     "name": "stdout",
     "output_type": "stream",
     "text": [
      "words: ['it', 'was', 'the', 'best', 'of', 'times', 'it', 'was', 'the', 'worst', 'of', 'times', 'it', 'was', 'the', 'age', 'of', 'wisdom', 'it', 'was', 'the', 'age', 'of', 'foolishness']\n"
     ]
    }
   ],
   "source": [
    "word_string1 = 'it was the best of times it was the worst of times '\n",
    "word_string2 = 'it was the age of wisdom it was the age of foolishness'\n",
    "word_string = word_string1 + word_string2\n",
    "\n",
    "words1 = word_string1.split()  #converts string with spaces to list of words\n",
    "words2 = word_string2.split()\n",
    "words = words1 + words2 \n",
    "print(\"words:\", words)"
   ]
  },
  {
   "cell_type": "markdown",
   "metadata": {
    "deletable": true,
    "editable": true
   },
   "source": [
    "Create some interesting dictionaries from these..."
   ]
  },
  {
   "cell_type": "code",
   "execution_count": 2,
   "metadata": {
    "collapsed": false,
    "deletable": true,
    "editable": true,
    "scrolled": true
   },
   "outputs": [
    {
     "name": "stdout",
     "output_type": "stream",
     "text": [
      "Word frequencies: {'worst': 1, 'the': 4, 'times': 2, 'was': 4, 'foolishness': 1, 'it': 4, 'age': 2, 'of': 4, 'wisdom': 1, 'best': 1}\n"
     ]
    }
   ],
   "source": [
    "# Word frequencies\n",
    "word_freq = {}\n",
    "for w in words:\n",
    "    word_freq[w] = word_freq.get(w,0) + 1\n",
    "print(\"Word frequencies:\", word_freq)"
   ]
  },
  {
   "cell_type": "code",
   "execution_count": 3,
   "metadata": {
    "collapsed": false,
    "deletable": true,
    "editable": true,
    "scrolled": true
   },
   "outputs": [
    {
     "name": "stdout",
     "output_type": "stream",
     "text": [
      "Pair frequencies: {('it', 'was'): 4, ('age', 'of'): 2, ('was', 'the'): 4, ('the', 'best'): 1, ('worst', 'of'): 1, ('the', 'worst'): 1, ('of', 'times'): 2, ('best', 'of'): 1, ('times', 'it'): 2, ('of', 'wisdom'): 1, ('wisdom', 'it'): 1, ('of', 'foolishness'): 1, ('the', 'age'): 2}\n"
     ]
    }
   ],
   "source": [
    "# Word pair frequencies\n",
    "word_pairs = {}\n",
    "prev = words[0]\n",
    "for w in words[1:]:\n",
    "    pair = (prev, w)\n",
    "    word_pairs[pair] = word_pairs.get(pair,0) + 1\n",
    "    prev = w\n",
    "print(\"Pair frequencies:\", word_pairs)"
   ]
  },
  {
   "cell_type": "code",
   "execution_count": 4,
   "metadata": {
    "collapsed": false,
    "deletable": true,
    "editable": true,
    "scrolled": true
   },
   "outputs": [
    {
     "name": "stdout",
     "output_type": "stream",
     "text": [
      "Words followed by\n",
      "{'worst': {'of'}, 'the': {'worst', 'best', 'age'}, 'times': {'it'}, 'was': {'the'}, 'it': {'was'}, 'age': {'of'}, 'of': {'foolishness', 'wisdom', 'times'}, 'wisdom': {'it'}, 'best': {'of'}}\n",
      "\n"
     ]
    }
   ],
   "source": [
    "# What words follow each word?\n",
    "word_after = {}\n",
    "prev = words[0]\n",
    "for w in words[1:]:\n",
    "    if prev not in word_after:\n",
    "        word_after[prev] = {w}\n",
    "    else:\n",
    "        word_after[prev].add(w)\n",
    "    prev = w\n",
    "print(\"Words followed by\\n\" + str(word_after) + \"\\n\")"
   ]
  },
  {
   "cell_type": "code",
   "execution_count": 5,
   "metadata": {
    "collapsed": false,
    "deletable": true,
    "editable": true,
    "scrolled": true
   },
   "outputs": [
    {
     "name": "stdout",
     "output_type": "stream",
     "text": [
      "Words followed by\n",
      "{'worst': {'of'}, 'the': {'worst', 'best', 'age'}, 'times': {'it'}, 'was': {'the'}, 'it': {'was'}, 'age': {'of'}, 'of': {'foolishness', 'wisdom', 'times'}, 'wisdom': {'it'}, 'best': {'of'}}\n",
      "\n"
     ]
    }
   ],
   "source": [
    "# More Pythonic:\n",
    "# zip is very handy for jointly processing the i_th element from multiple lists.\n",
    "# Note that in python3 zip is a generator, so is very efficient.\n",
    "# setdefault method for dict saves a lot of specialized initialization code.\n",
    "word_after = {}\n",
    "for w1, w2 in zip(words, words[1:]):\n",
    "    word_after.setdefault(w1, set()).add(w2)\n",
    "print(\"Words followed by\\n\" + str(word_after) + \"\\n\")"
   ]
  },
  {
   "cell_type": "markdown",
   "metadata": {
    "deletable": true,
    "editable": true
   },
   "source": [
    "Rewriting as procedures so we can use them later:"
   ]
  },
  {
   "cell_type": "code",
   "execution_count": 6,
   "metadata": {
    "collapsed": true,
    "deletable": true,
    "editable": true
   },
   "outputs": [],
   "source": [
    "def get_freq(words):\n",
    "    word_freq = {}\n",
    "    for w in words:\n",
    "        word_freq[w] = word_freq.get(w,0) + 1\n",
    "    return word_freq\n",
    "\n",
    "def get_pair_freq(words):\n",
    "    word_pairs = {}\n",
    "    prev = words[0]\n",
    "    for w in words[1:]:\n",
    "        pair = (prev, w)\n",
    "        word_pairs[pair] = word_pairs.get(pair,0) + 1\n",
    "        prev = w\n",
    "    return word_pairs"
   ]
  },
  {
   "cell_type": "markdown",
   "metadata": {
    "deletable": true,
    "editable": true
   },
   "source": [
    "Suppose we want to identify the high frequency words (i.e., sort word frequency from high to low)."
   ]
  },
  {
   "cell_type": "code",
   "execution_count": 7,
   "metadata": {
    "collapsed": false,
    "deletable": true,
    "editable": true
   },
   "outputs": [
    {
     "name": "stdout",
     "output_type": "stream",
     "text": [
      "[(4, 'was'), (4, 'the'), (4, 'of'), (4, 'it'), (2, 'times'), (2, 'age'), (1, 'worst'), (1, 'wisdom'), (1, 'foolishness'), (1, 'best')]\n"
     ]
    }
   ],
   "source": [
    "def sort_freq_dict(freq):\n",
    "    aux = [(freq[key], key) for key in freq] #list comprehension\n",
    "    aux.sort()    #sort in place\n",
    "    aux.reverse() #reverse in place\n",
    "    return aux    #return an (ordered) list, not a dictionary\n",
    "\n",
    "#More pythonic:\n",
    "def sort_freq_dict(freq):\n",
    "    return sorted([(freq[key], key) for key in freq], reverse=True)\n",
    "\n",
    "words_by_frequency = sort_freq_dict(word_freq)\n",
    "print(words_by_frequency)"
   ]
  },
  {
   "cell_type": "markdown",
   "metadata": {
    "deletable": true,
    "editable": true
   },
   "source": [
    "Next, we can build a similarity measure between two word frequencies. We'll use a typical \"geometric\" notion of distance or similarity referred to as \"[cosine similarity](https://en.wikipedia.org/wiki/Cosine_similarity).\" We build this from vector measures of word frequency including the \"norm\" and the \"dot product\", and then calculate a (normalized) cosine distance.\n",
    "\n",
    "The mathematical details are not crucial here -- but we do want to note how we use dictionary and set operations"
   ]
  },
  {
   "cell_type": "code",
   "execution_count": 8,
   "metadata": {
    "collapsed": true,
    "deletable": true,
    "editable": true
   },
   "outputs": [],
   "source": [
    "def freq_norm(freq):\n",
    "    \"\"\" Norm of frequencies in freq, as root-mean-square of freqs \"\"\"\n",
    "    sum_square = 0\n",
    "    for w, num in freq.items():    #iterates over key, val in dictionary\n",
    "        sum_square += num**2\n",
    "    return sum_square**0.5\n",
    "\n",
    "#More pythonic version:\n",
    "def freq_norm(freq):\n",
    "    return sum(num*num for num in freq.values())**0.5    #comprehension on just dict values\n",
    "\n",
    "def freq_dot(freq1, freq2):\n",
    "    \"\"\" Dot product of two word freqs, as sum of products of freqs for words\"\"\"\n",
    "    words_in_both = set(freq1) & set(freq2)\n",
    "    total = 0\n",
    "    for w in words_in_both:\n",
    "        total += freq1[w] * freq2[w]\n",
    "    return total\n",
    "\n",
    "#More pythonic version:\n",
    "def freq_dot(freq1, freq2):\n",
    "    return sum(freq1[w] * freq2[w] for w in set(freq1) & set(freq2))\n",
    "\n",
    "import math\n",
    "#Returns similarity between two word (or pair) frequencies dictionaries.\n",
    "# 1 indicates identical word (or pair) frequencies; \n",
    "# 0 indicates completely different words (pairs)\n",
    "def freq_similarity(freq1, freq2):\n",
    "    d = freq_dot(freq1, freq2)/(freq_norm(freq1)*freq_norm(freq2))\n",
    "    ang = math.acos(min(1.0, d))\n",
    "    return 1 - ang/(math.pi/2)"
   ]
  },
  {
   "cell_type": "code",
   "execution_count": 9,
   "metadata": {
    "collapsed": false,
    "deletable": true,
    "editable": true
   },
   "outputs": [
    {
     "name": "stdout",
     "output_type": "stream",
     "text": [
      "Combined words: {'a', 'c', 'b'}\n",
      "freq_norm of {'b': 2, 'a': 40} : 40.049968789001575\n",
      "freq_norm of {'c': 3, 'a': 30} : 30.14962686336267\n",
      "freq_dot of {'b': 2, 'a': 40} and {'c': 3, 'a': 30} : 1200\n",
      "freq_similarity: 0.9290478472408689\n"
     ]
    }
   ],
   "source": [
    "# Some quick tests/examples\n",
    "x = {'a':40, 'b':2}\n",
    "y = {'c':3, 'a':30}\n",
    "print(\"Combined words:\", set(x) | set(y))\n",
    "print(\"freq_norm of\", x, \":\", freq_norm(x))\n",
    "print(\"freq_norm of\", y, \":\", freq_norm(y))\n",
    "print(\"freq_dot of\", x, \"and\", y, \":\", freq_dot(x,y))\n",
    "print(\"freq_similarity:\", freq_similarity(x,y))"
   ]
  },
  {
   "cell_type": "code",
   "execution_count": 10,
   "metadata": {
    "collapsed": false,
    "deletable": true,
    "editable": true
   },
   "outputs": [
    {
     "name": "stdout",
     "output_type": "stream",
     "text": [
      "words1: ['it', 'was', 'the', 'best', 'of', 'times', 'it', 'was', 'the', 'worst', 'of', 'times'] \n",
      "words2: ['it', 'was', 'the', 'age', 'of', 'wisdom', 'it', 'was', 'the', 'age', 'of', 'foolishness'] \n",
      "words3: ['this', 'is', 'a', 'random', 'sentence', 'good', 'enough', 'for', 'any', 'random', 'day'] \n",
      "\n",
      "words1 vs. words2 -- word use similarity:  0.5184249085864179\n",
      "words1 vs. words3 -- word use similarity:  0.0\n",
      "words3 vs. words3 -- word use similarity:  1.0\n"
     ]
    }
   ],
   "source": [
    "# Try it out with our short phrases\n",
    "words3 = \"this is a random sentence good enough for any random day\".split()\n",
    "print(\"words1:\", words1, \"\\nwords2:\", words2, \"\\nwords3:\", words3, \"\\n\")\n",
    "\n",
    "# build word and pair frequency dictionaries, and calculate some similarities\n",
    "freq1 = get_freq(words1)\n",
    "freq2 = get_freq(words2)\n",
    "freq3 = get_freq(words3)\n",
    "print(\"words1 vs. words2 -- word use similarity: \", freq_similarity(freq1, freq2))\n",
    "print(\"words1 vs. words3 -- word use similarity: \", freq_similarity(freq1, freq3))\n",
    "print(\"words3 vs. words3 -- word use similarity: \", freq_similarity(freq3, freq3))"
   ]
  },
  {
   "cell_type": "code",
   "execution_count": 11,
   "metadata": {
    "collapsed": false,
    "deletable": true,
    "editable": true
   },
   "outputs": [
    {
     "name": "stdout",
     "output_type": "stream",
     "text": [
      "words1 vs. words2 -- pair use similarity:  0.29368642735616235\n",
      "words1 vs. words3 -- pair use similarity:  0.0\n"
     ]
    }
   ],
   "source": [
    "# try that for similarity of WORD PAIR use...\n",
    "pair1 = get_pair_freq(words1)\n",
    "pair2 = get_pair_freq(words2)\n",
    "pair3 = get_pair_freq(words3)\n",
    "print(\"words1 vs. words2 -- pair use similarity: \", freq_similarity(pair1, pair2))\n",
    "print(\"words1 vs. words3 -- pair use similarity: \", freq_similarity(pair1, pair3))"
   ]
  },
  {
   "cell_type": "markdown",
   "metadata": {
    "deletable": true,
    "editable": true
   },
   "source": [
    "### Now let's do it with some actual books!"
   ]
  },
  {
   "cell_type": "code",
   "execution_count": 12,
   "metadata": {
    "collapsed": false,
    "deletable": true,
    "editable": true
   },
   "outputs": [
    {
     "name": "stdout",
     "output_type": "stream",
     "text": [
      "28218 18154 15189\n"
     ]
    }
   ],
   "source": [
    "with open('hamlet.txt', 'r') as f:\n",
    "    hamlet = f.read().replace('\\n', '').lower()\n",
    "hamlet_words = hamlet.split()\n",
    "\n",
    "with open('macbeth.txt', 'r') as f:\n",
    "    macbeth = f.read().replace('\\n', '').lower()\n",
    "macbeth_words = macbeth.split()\n",
    "\n",
    "with open('alice_in_wonderland.txt', 'r') as f:\n",
    "    alice = f.read().replace('\\n', '').lower()\n",
    "alice_words = alice.split()\n",
    "\n",
    "print(len(hamlet_words), len(macbeth_words), len(alice_words))"
   ]
  },
  {
   "cell_type": "markdown",
   "metadata": {
    "deletable": true,
    "editable": true
   },
   "source": [
    "With the text from those books in hand, let's look at similarities..."
   ]
  },
  {
   "cell_type": "code",
   "execution_count": 13,
   "metadata": {
    "collapsed": false,
    "deletable": true,
    "editable": true
   },
   "outputs": [
    {
     "name": "stdout",
     "output_type": "stream",
     "text": [
      "similarity of word freq between hamlet & macbeth: 0.8234901643970373\n",
      "similarity of word freq between alice & macbeth: 0.7242123439984074\n",
      "\n",
      "similarity of word pairs between hamlet & macbeth: 0.3195599532068242\n",
      "similarity of word pairs between alice & macbeth: 0.23412902997911367\n"
     ]
    }
   ],
   "source": [
    "hamlet_freq = get_freq(hamlet_words)\n",
    "macbeth_freq = get_freq(macbeth_words)\n",
    "alice_freq = get_freq(alice_words)\n",
    "print(\"similarity of word freq between hamlet & macbeth:\", freq_similarity(hamlet_freq, macbeth_freq))\n",
    "print(\"similarity of word freq between alice & macbeth:\", freq_similarity(alice_freq, macbeth_freq))\n",
    "\n",
    "hamlet_pair = get_pair_freq(hamlet_words)\n",
    "macbeth_pair = get_pair_freq(macbeth_words)\n",
    "alice_pair = get_pair_freq(alice_words)\n",
    "print(\"\\nsimilarity of word pairs between hamlet & macbeth:\", \\\n",
    "      freq_similarity(hamlet_pair, macbeth_pair))\n",
    "print(\"similarity of word pairs between alice & macbeth:\", \\\n",
    "      freq_similarity(alice_pair, macbeth_pair))"
   ]
  },
  {
   "cell_type": "markdown",
   "metadata": {
    "collapsed": true,
    "deletable": true,
    "editable": true
   },
   "source": [
    "So we've confirmed that <b>Macbeth</b> is more similar to <b>Hamlet</b> than to <b>Alice in Wonderland</b>, both in word use  and in word pair usage. Good to know!"
   ]
  }
 ],
 "metadata": {
  "kernelspec": {
   "display_name": "Python 3",
   "language": "python",
   "name": "python3"
  },
  "language_info": {
   "codemirror_mode": {
    "name": "ipython",
    "version": 3
   },
   "file_extension": ".py",
   "mimetype": "text/x-python",
   "name": "python",
   "nbconvert_exporter": "python",
   "pygments_lexer": "ipython3",
   "version": "3.5.1"
  }
 },
 "nbformat": 4,
 "nbformat_minor": 2
}
