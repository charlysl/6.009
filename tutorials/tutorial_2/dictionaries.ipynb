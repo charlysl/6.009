{
 "cells": [
  {
   "cell_type": "markdown",
   "metadata": {
    "collapsed": true,
    "deletable": true,
    "editable": true
   },
   "source": [
    "# Dictionaries\n",
    "Dictionaries are like sets, except that the \"elements\" of the dictionary are treated as keys, and a value is associated with that key. As in sets, the keys to dictionaries must be immutable and hashable objects. However, the values associated with the key can be anything, and can be mutable."
   ]
  },
  {
   "cell_type": "code",
   "execution_count": 1,
   "metadata": {
    "collapsed": false,
    "deletable": true,
    "editable": true
   },
   "outputs": [
    {
     "name": "stdout",
     "output_type": "stream",
     "text": [
      "{27: 'my value', 'dog': [1, 2, 'three']}\n"
     ]
    }
   ],
   "source": [
    "table = {} #Create empty dictionary\n",
    "table[27] = 'my value'\n",
    "table[\"dog\"] = [1, 2, \"three\"]\n",
    "print(table)"
   ]
  },
  {
   "cell_type": "code",
   "execution_count": 2,
   "metadata": {
    "collapsed": false,
    "deletable": true,
    "editable": true
   },
   "outputs": [
    {
     "name": "stdout",
     "output_type": "stream",
     "text": [
      "table: {27: 3, 'dog': [1, 2, 'three']}\n"
     ]
    }
   ],
   "source": [
    "table[27] = 3\n",
    "print(\"table:\", table)"
   ]
  },
  {
   "cell_type": "code",
   "execution_count": 3,
   "metadata": {
    "collapsed": false,
    "deletable": true,
    "editable": true
   },
   "outputs": [
    {
     "name": "stdout",
     "output_type": "stream",
     "text": [
      "table: {27: 3, 'cat': 'unhappy', 'dog': [1, 2, 'three']}\n"
     ]
    }
   ],
   "source": [
    "#Is key in a dictionary?\n",
    "if 'dog' in table:\n",
    "    table['cat'] = 'unhappy'\n",
    "print(\"table:\", table)"
   ]
  },
  {
   "cell_type": "code",
   "execution_count": 4,
   "metadata": {
    "collapsed": false,
    "deletable": true,
    "editable": true
   },
   "outputs": [
    {
     "name": "stdout",
     "output_type": "stream",
     "text": [
      "key: 27 val: 3\n",
      "key: cat val: unhappy\n",
      "key: dog val: [1, 2, 'three']\n"
     ]
    }
   ],
   "source": [
    "# Iterative over elements in a dictionary. Any order can occur!\n",
    "for key, val in table.items():\n",
    "    print(\"key:\", key, \"val:\", val)"
   ]
  },
  {
   "cell_type": "code",
   "execution_count": 5,
   "metadata": {
    "collapsed": false,
    "deletable": true,
    "editable": true
   },
   "outputs": [
    {
     "name": "stdout",
     "output_type": "stream",
     "text": [
      "table: {'cat': 'unhappy', 'dog': [1, 2, 'three']}\n"
     ]
    }
   ],
   "source": [
    "# Remove element from a dictionary\n",
    "del table[27]  #Exception if key is not in dictionary\n",
    "print(\"table:\", table)"
   ]
  },
  {
   "cell_type": "code",
   "execution_count": 6,
   "metadata": {
    "collapsed": false,
    "deletable": true,
    "editable": true
   },
   "outputs": [
    {
     "data": {
      "text/plain": [
       "{0: 0, 1: 1, 2: 8, 3: 27, 4: 64, 5: 125, 6: 216, 7: 343}"
      ]
     },
     "execution_count": 6,
     "metadata": {},
     "output_type": "execute_result"
    }
   ],
   "source": [
    "# Dictionary comprehensions also possible\n",
    "{n: n**3 for n in range(8)}"
   ]
  },
  {
   "cell_type": "markdown",
   "metadata": {
    "collapsed": true,
    "deletable": true,
    "editable": true
   },
   "source": [
    "## Some fun with sets and dictionaries...\n",
    "\n",
    "### Problem: \n",
    "Return a new list with the 2nd instance of the first element that is repeated in the input list removed. The rest of the list should remain unchanged (be the same as the input).\n",
    "\n",
    "### Goal:\n",
    "Our goal is to use this problem to build some familiarity with <b>sets and dictionaries</b> -- so the code versions below are written to uses sets and/or dictionaries. This is definitely not the only way to solve the problem, but it happens to also be the most efficient away. (At the very end, we'll also show a more \"direct\", but less efficient, solution which does not use sets or dictionaries.)"
   ]
  },
  {
   "cell_type": "code",
   "execution_count": 7,
   "metadata": {
    "collapsed": true,
    "deletable": true,
    "editable": true
   },
   "outputs": [],
   "source": [
    "inp = [0, 12, 12, 0, 12, 12, 34, 56, 23, 11, 45, 2, 3, 4, 11, 10, 12]\n",
    "\n",
    "inps = ['zero', 'twelve', 'twelve', 'zero', 'twelve', 'twelve',\n",
    "        'thirty four', 'fifty six', 'twenty three', 'eleven',\n",
    "        'forty five', 'two', 'three', 'four', 'eleven', 'ten', 'twelve']"
   ]
  },
  {
   "cell_type": "markdown",
   "metadata": {
    "deletable": true,
    "editable": true
   },
   "source": [
    "### Version 1"
   ]
  },
  {
   "cell_type": "code",
   "execution_count": 8,
   "metadata": {
    "collapsed": false,
    "deletable": true,
    "editable": true
   },
   "outputs": [
    {
     "name": "stdout",
     "output_type": "stream",
     "text": [
      "[0, 12, 12, 0, 12, 12, 34, 56, 23, 11, 45, 2, 3, 4, 11, 10, 12]\n",
      "repeated: 0\n",
      "index: 3\n"
     ]
    },
    {
     "data": {
      "text/plain": [
       "[0, 12, 12, 12, 12, 34, 56, 23, 11, 45, 2, 3, 4, 11, 10, 12]"
      ]
     },
     "execution_count": 8,
     "metadata": {},
     "output_type": "execute_result"
    }
   ],
   "source": [
    "def remove2ndInstancev1(input):\n",
    "    print(input)\n",
    "\n",
    "    #Create a dictionary with frequencies\n",
    "    freqd = {}\n",
    "    for val in input:\n",
    "        freqd[val] = freqd.get(val, 0) + 1\n",
    "        #The get() method returns the value of the key in the dictionary\n",
    "        #if it exists, and otherwise returns the default value (2nd param)\n",
    "      \n",
    "    #Look for first repeated element\n",
    "    for val in input:\n",
    "        if freqd[val] >= 2:\n",
    "            repeated = val\n",
    "            break\n",
    "    print(\"repeated:\", repeated)\n",
    "    \n",
    "    #Look through the list to find where the 2nd instance of the repeat is\n",
    "    index = len(input)\n",
    "    count = 0\n",
    "    for i in range(len(input)):\n",
    "        if input[i] == repeated:\n",
    "            count += 1\n",
    "        if count == 2:\n",
    "            index = i\n",
    "            break\n",
    "    print(\"index:\", index)\n",
    "            \n",
    "    output = input[:]        #make copy of input\n",
    "    #Remove this 2nd instance if it exists from a copy of the input\n",
    "    if index < len(output):\n",
    "        output.pop(index)\n",
    "    return output\n",
    "\n",
    "remove2ndInstancev1(inp)"
   ]
  },
  {
   "cell_type": "code",
   "execution_count": 9,
   "metadata": {
    "collapsed": false,
    "deletable": true,
    "editable": true
   },
   "outputs": [
    {
     "name": "stdout",
     "output_type": "stream",
     "text": [
      "['zero', 'twelve', 'twelve', 'zero', 'twelve', 'twelve', 'thirty four', 'fifty six', 'twenty three', 'eleven', 'forty five', 'two', 'three', 'four', 'eleven', 'ten', 'twelve']\n",
      "repeated: zero\n",
      "index: 3\n",
      "['zero', 'twelve', 'twelve', 'twelve', 'twelve', 'thirty four', 'fifty six', 'twenty three', 'eleven', 'forty five', 'two', 'three', 'four', 'eleven', 'ten', 'twelve']\n"
     ]
    }
   ],
   "source": [
    "output = remove2ndInstancev1(inps)  #works also for lists of other kinds of elements\n",
    "print(output)"
   ]
  },
  {
   "cell_type": "markdown",
   "metadata": {
    "deletable": true,
    "editable": true
   },
   "source": [
    "### Revised Spec"
   ]
  },
  {
   "cell_type": "markdown",
   "metadata": {
    "deletable": true,
    "editable": true
   },
   "source": [
    "Our procedure removed <tt>0</tt> (<tt>'zero'</tt>) from the list at index 3, since that is the first repeat of the \"earliest\" element. Is that what we want?  Our specification is perhaps <b>ambiguous</b>. Arguably, we might want to remove <tt>12</tt> at index 2 since <tt>12</tt> appeared twice before <tt>0</tt> appeared twice. Let's clarify our spec: by 'first repeated element' we mean the element that appears twice <b>first</b>. Thus \n",
    "\n",
    "<tt>inp = [0, 12, 12, 0, 12, 12, 34, 56, 23, 11, 45, 2, 3, 4, 11, 10, 12]</tt> \n",
    "\n",
    "should give\n",
    "<tt>expect = [0, 12, 0, 12, 12, 34, 56, 23, 11, 45, 2, 3, 4, 11, 10, 12] # remove second 12</tt>"
   ]
  },
  {
   "cell_type": "markdown",
   "metadata": {
    "deletable": true,
    "editable": true
   },
   "source": [
    "### Version 2 -- remove the second appearance of the first element that makes a second appearance"
   ]
  },
  {
   "cell_type": "code",
   "execution_count": 10,
   "metadata": {
    "collapsed": false,
    "deletable": true,
    "editable": true
   },
   "outputs": [
    {
     "name": "stdout",
     "output_type": "stream",
     "text": [
      "[0, 12, 12, 0, 12, 12, 34, 56, 23, 11, 45, 2, 3, 4, 11, 10, 12]\n",
      "\n",
      "freqd = {0: [2, 3], 34: [1, 6], 3: [1, 12], 4: [1, 13], 23: [1, 8], 56: [1, 7], 2: [1, 11], 10: [1, 15], 11: [2, 14], 12: [5, 2], 45: [1, 10]}\n"
     ]
    },
    {
     "data": {
      "text/plain": [
       "[0, 12, 0, 12, 12, 34, 56, 23, 11, 45, 2, 3, 4, 11, 10, 12]"
      ]
     },
     "execution_count": 10,
     "metadata": {},
     "output_type": "execute_result"
    }
   ],
   "source": [
    "def remove2ndInstancev2(input):\n",
    "    print(input)\n",
    "\n",
    "    #Create a dictionary whose values are frequencies AND indices of elements.\n",
    "    #We store either the index of the first element or for repeated elements \n",
    "    #we store the index of the 2nd instance (first repeat).\n",
    "    #Ignore additional repeats.\n",
    "    freqd = {}\n",
    "    \n",
    "    for i in range(len(input)): \n",
    "        val = input[i]\n",
    "        if val in freqd:\n",
    "            freqd[val][0] += 1\n",
    "            if freqd[val][0] == 2:\n",
    "                freqd[val][1] = i\n",
    "        else:\n",
    "            freqd[val] = [1, i]\n",
    "    print(\"\\nfreqd =\", freqd)\n",
    "            \n",
    "    #Get the index of the 2nd instance of the earliest appearing repeat.\n",
    "    index = len(input)\n",
    "    for val in input:\n",
    "        entry = freqd[val]\n",
    "        if entry[0] >= 2:\n",
    "            index = min(index, entry[1])\n",
    "\n",
    "    #Remove this 2nd instance\n",
    "    output = input[:]        #make copy of input\n",
    "    if index < len(output):\n",
    "        output.pop(index)\n",
    "    return output\n",
    "\n",
    "remove2ndInstancev2(inp)"
   ]
  },
  {
   "cell_type": "markdown",
   "metadata": {
    "deletable": true,
    "editable": true
   },
   "source": [
    "Hurray! We correctly detect the second <tt>12</tt> as the first repeated element, and remove that.\n",
    "\n",
    "But can we do better in terms of writing prettier and tighter code -- perhaps something using <b>sets</b> rather\n",
    "than <b>dictionaries</b>?"
   ]
  },
  {
   "cell_type": "markdown",
   "metadata": {
    "deletable": true,
    "editable": true
   },
   "source": [
    "### Version 3 -- simplified using a set rather than a dictionary, to detect first repeat"
   ]
  },
  {
   "cell_type": "code",
   "execution_count": 11,
   "metadata": {
    "collapsed": false,
    "deletable": true,
    "editable": true
   },
   "outputs": [
    {
     "name": "stdout",
     "output_type": "stream",
     "text": [
      "[0, 12, 12, 0, 12, 12, 34, 56, 23, 11, 45, 2, 3, 4, 11, 10, 12]\n"
     ]
    },
    {
     "data": {
      "text/plain": [
       "[0, 12, 0, 12, 12, 34, 56, 23, 11, 45, 2, 3, 4, 11, 10, 12]"
      ]
     },
     "execution_count": 11,
     "metadata": {},
     "output_type": "execute_result"
    }
   ],
   "source": [
    "def remove2ndInstancev3(input):\n",
    "    print(input)\n",
    "\n",
    "    index = len(input)\n",
    "    freq_set = set()\n",
    "    for i, val in enumerate(input):\n",
    "        if val in freq_set:\n",
    "            index = i\n",
    "            break\n",
    "        freq_set.add(val)      \n",
    "\n",
    "    #Remove this 2nd instance\n",
    "    output = input[:index] + input[index+1:]  # list slicing rather than list pop\n",
    "    return output\n",
    "\n",
    "remove2ndInstancev3(inp)"
   ]
  },
  {
   "cell_type": "markdown",
   "metadata": {
    "deletable": true,
    "editable": true
   },
   "source": [
    "### Version 4 -- simpler but less efficient\n",
    "Here's a very short solution to the original problem (with the first interpretation of the spec). It's interesting to think about how this works, and its virtues and/or failings compared to the earlier versions. This operates directly on the input list, without making any auxiliary sets and dictionaries, so is a more direct solution of the earlier problem. But it doesn't use sets and dictionaries, and as a result, it is slow for large inputs (taking quadratic time instead of linear). Think about why!"
   ]
  },
  {
   "cell_type": "code",
   "execution_count": 12,
   "metadata": {
    "collapsed": false,
    "deletable": true,
    "editable": true
   },
   "outputs": [
    {
     "name": "stdout",
     "output_type": "stream",
     "text": [
      "[0, 12, 12, 0, 12, 12, 34, 56, 23, 11, 45, 2, 3, 4, 11, 10, 12]\n"
     ]
    },
    {
     "data": {
      "text/plain": [
       "[0, 12, 12, 12, 12, 34, 56, 23, 11, 45, 2, 3, 4, 11, 10, 12]"
      ]
     },
     "execution_count": 12,
     "metadata": {},
     "output_type": "execute_result"
    }
   ],
   "source": [
    "def remove2ndInstancev4(input):\n",
    "    print(input)\n",
    "    for i in range(len(input)):\n",
    "        ii = input.index(input[i],i+1)\n",
    "        if ii != -1:\n",
    "            return input[:ii] + input[ii+1:]\n",
    "    return input[:]\n",
    "\n",
    "remove2ndInstancev4(inp)"
   ]
  },
  {
   "cell_type": "markdown",
   "metadata": {
    "collapsed": true,
    "deletable": true,
    "editable": true
   },
   "source": [
    "Consider it a challenge to you to revise this to go with our revised spec, i.e., to remove the first repeated element (12)!"
   ]
  }
 ],
 "metadata": {
  "kernelspec": {
   "display_name": "Python 3",
   "language": "python",
   "name": "python3"
  },
  "language_info": {
   "codemirror_mode": {
    "name": "ipython",
    "version": 3
   },
   "file_extension": ".py",
   "mimetype": "text/x-python",
   "name": "python",
   "nbconvert_exporter": "python",
   "pygments_lexer": "ipython3",
   "version": "3.5.1"
  }
 },
 "nbformat": 4,
 "nbformat_minor": 2
}
