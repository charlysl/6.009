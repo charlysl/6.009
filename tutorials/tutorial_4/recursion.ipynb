{
 "cells": [
  {
   "cell_type": "markdown",
   "metadata": {},
   "source": [
    "Some instrumentation to help see/show how recursion works. While this needs to be executed, you can ignore the details (unless you're curious!) and skip directly to \"Recursive Patterns\" below."
   ]
  },
  {
   "cell_type": "code",
   "execution_count": null,
   "metadata": {
    "collapsed": true
   },
   "outputs": [],
   "source": [
    "from functools import wraps\n",
    "import sys\n",
    "def instrument(f):\n",
    "    \"\"\"This is a helpful wrapper, to instrument a function to show the\n",
    "    call entry and exit from that function.\n",
    "    \"\"\"\n",
    "    @wraps(f)\n",
    "    def wrapper(*args, **kwargs):\n",
    "        call_depth = wrapper.call_count\n",
    "        wrapper.call_count += 1\n",
    "        argstr = ', '.join([str(args[i]) for i in range(len(args))])\n",
    "        sys.stderr.write(\"   \"*call_depth + \"call to \" + f.__name__ + \": \" + argstr + \"\\n\")\n",
    "        result = f(*args, **kwargs)\n",
    "        sys.stderr.write(\"   \"*call_depth + f.__name__ + \" returns: \" +  str(result) + \"\\n\")\n",
    "        wrapper.call_count -= 1\n",
    "        return result\n",
    "    wrapper.call_count = 0\n",
    "    return wrapper"
   ]
  },
  {
   "cell_type": "markdown",
   "metadata": {},
   "source": [
    "# Recursive Patterns\n",
    "## Let's start with some simple functions that recurse on lists...\n",
    "### Walk the list to find the first value satisfying function `f`"
   ]
  },
  {
   "cell_type": "code",
   "execution_count": null,
   "metadata": {
    "collapsed": true
   },
   "outputs": [],
   "source": [
    "@instrument\n",
    "def walk_list(L, f):\n",
    "    \"\"\"Walk a list -- in a recursive style. Note that this is done as a\n",
    "    stepping stone toward other recursive functions, and so does not\n",
    "    use easier/direct built-in list functions.\n",
    "    \n",
    "    In this first version -- walk the list just to find/return the\n",
    "    FIRST item that satisfies some condition, where f(item) is true.\n",
    "    \n",
    "    >>> walk_list([1, 2, 3], lambda x: x > 2)\n",
    "    3\n",
    "    \"\"\"\n",
    "    pass"
   ]
  },
  {
   "cell_type": "code",
   "execution_count": null,
   "metadata": {},
   "outputs": [],
   "source": [
    "walk_list([1, 2, 3], lambda x: x > 2)"
   ]
  },
  {
   "cell_type": "markdown",
   "metadata": {},
   "source": [
    "### Walk a list, but now returning a <em>list</em> of items that satisfy `f` -- uses stack"
   ]
  },
  {
   "cell_type": "code",
   "execution_count": null,
   "metadata": {
    "collapsed": true
   },
   "outputs": [],
   "source": [
    "@instrument\n",
    "def walk_list_filter1(L, f):\n",
    "    \"\"\" Walk a list, returning a list of items that satisfy the\n",
    "    condition f.\n",
    "\n",
    "    This implementation uses the stack to hold intermediate results,\n",
    "    and completes construction of the return list upon return of\n",
    "    the recursive call.\n",
    "\n",
    "    >>> walk_list_filter1([1, 2, 3], lambda x: x % 2 == 1) #odd only\n",
    "    [1, 3]\n",
    "    \"\"\"\n",
    "    pass"
   ]
  },
  {
   "cell_type": "code",
   "execution_count": null,
   "metadata": {},
   "outputs": [],
   "source": [
    "walk_list_filter1([1, 2, 3], lambda x: x % 2 == 1)"
   ]
  },
  {
   "cell_type": "markdown",
   "metadata": {},
   "source": [
    "### Walk a list, returning a list of items that satisfy `f` -- uses helper with a \"so_far\" argument"
   ]
  },
  {
   "cell_type": "code",
   "execution_count": null,
   "metadata": {
    "collapsed": true
   },
   "outputs": [],
   "source": [
    "@instrument\n",
    "def walk_list_filter2(L, f):\n",
    "    \"\"\" Walk a list, returning a list of items that satisfy the\n",
    "    condition f.\n",
    "\n",
    "    This implementation uses a helper with an explicit 'so far'\n",
    "    variable, that holds the return value as it is being built\n",
    "    up incrementally on each call.\n",
    "\n",
    "    >>> walk_list_filter2([1, 2, 3], lambda x: x % 2 == 1)\n",
    "    [1, 3]\n",
    "    \"\"\"\n",
    "    @instrument\n",
    "    def helper(L, ans_so_far):\n",
    "        pass\n",
    "    \n",
    "    return helper(L, [])"
   ]
  },
  {
   "cell_type": "code",
   "execution_count": null,
   "metadata": {},
   "outputs": [],
   "source": [
    "walk_list_filter2([1, 2, 3], lambda x: x % 2 == 1)"
   ]
  },
  {
   "cell_type": "markdown",
   "metadata": {},
   "source": [
    "Note the difference in how this works. `walk_list_filter2` builds up the result as an evolving argument to `helper`. \n",
    "When we're done, the stack does nothing more than keep passing that result back up the call chain (i.e., is written in \n",
    "a tail-recursive fashion). \n",
    "In contrast, `walk_list_filter1` uses the stack to hold partial results, and then does further work to \n",
    "build or complete the result after each recursive call returns."
   ]
  },
  {
   "cell_type": "markdown",
   "metadata": {},
   "source": [
    "## Now consider some functions that recurse on trees...\n",
    "We want to extend the basic idea of recursive walkers and builders for lists, now to trees. We'll see the same patterns at work, but now often with more base cases and/or more recursive branch cases.\n",
    "\n",
    "For these examples, we need a simple tree structure. Here we'll represent a node in a tree as a list with the first element being the node value, and the rest of the list being the children nodes.\n",
    "That is to say, our tree structure is a simple nested list structure.\n",
    "<center><img src=\"images/tree1.png\" alt=\"tree [13, [7], [8, [99], [16], [42]]]\" width=150></center>"
   ]
  },
  {
   "cell_type": "code",
   "execution_count": null,
   "metadata": {},
   "outputs": [],
   "source": [
    "tree1 = [13,\n",
    "         [7],\n",
    "         [8, \n",
    "          [99],\n",
    "          [16, \n",
    "           [77]],\n",
    "          [42]]]\n",
    "tree1"
   ]
  },
  {
   "cell_type": "code",
   "execution_count": null,
   "metadata": {
    "collapsed": true
   },
   "outputs": [],
   "source": [
    "@instrument\n",
    "def tree_max(tree):\n",
    "    \"\"\"Walk a tree, returning the maximum value in the (assumed non-empty) tree. \"\"\"\n",
    "    pass"
   ]
  },
  {
   "cell_type": "code",
   "execution_count": null,
   "metadata": {
    "scrolled": true
   },
   "outputs": [],
   "source": [
    "tree_max(tree1)"
   ]
  },
  {
   "cell_type": "code",
   "execution_count": null,
   "metadata": {
    "collapsed": true
   },
   "outputs": [],
   "source": [
    "@instrument\n",
    "def depth_tree(tree):\n",
    "    \"\"\" Walk a tree, returning the depth of the tree\n",
    "    >>> depth_tree([13, [7], [8, [99], [16, [77]], [42]]])\n",
    "    \"\"\"\n",
    "    pass"
   ]
  },
  {
   "cell_type": "code",
   "execution_count": null,
   "metadata": {},
   "outputs": [],
   "source": [
    "depth_tree([13, [7], [8, [99], [16, [77]], [42]]])"
   ]
  },
  {
   "cell_type": "markdown",
   "metadata": {},
   "source": [
    "Notice that the recursion structure is exactly the same in both cases?  We could generalize to something like a `walk_tree` that took a tree *and* a function `f` (and perhaps some other base case values), and did that operation at each step. We'll leave that as an exercise for the reader. "
   ]
  },
  {
   "cell_type": "markdown",
   "metadata": {},
   "source": [
    "### Now a \"builder\" or \"maker\" function, that recursively creates a tree structure..."
   ]
  },
  {
   "cell_type": "code",
   "execution_count": null,
   "metadata": {
    "collapsed": true
   },
   "outputs": [],
   "source": [
    "@instrument\n",
    "def make_tree(L):\n",
    "    \"\"\" Make and return a binary tree corresponding to the list. The\n",
    "    tree is \"binary\" in the sense that left and right branches are\n",
    "    balanced as much as possible, but no condition is imposed on the\n",
    "    left/right values under each node in the tree.\n",
    "    \n",
    "    >>> make_tree([1,2,3])\n",
    "    [1, 2, 3]\n",
    "    \"\"\"\n",
    "    pass"
   ]
  },
  {
   "cell_type": "code",
   "execution_count": null,
   "metadata": {},
   "outputs": [],
   "source": [
    "tree2 = make_tree([1, 2, 3])\n",
    "tree2"
   ]
  },
  {
   "cell_type": "code",
   "execution_count": null,
   "metadata": {},
   "outputs": [],
   "source": [
    "tree3 = make_tree([1, 2]) #unbalanced tree case\n",
    "tree3"
   ]
  },
  {
   "cell_type": "markdown",
   "metadata": {},
   "source": [
    "How many recursive calls do you expect for a list of length `n`?"
   ]
  },
  {
   "cell_type": "code",
   "execution_count": null,
   "metadata": {},
   "outputs": [],
   "source": [
    "tree4 = make_tree(list(range(8)))\n",
    "tree4"
   ]
  },
  {
   "cell_type": "code",
   "execution_count": null,
   "metadata": {
    "collapsed": true
   },
   "outputs": [],
   "source": [
    "def show_tree(tree):\n",
    "    \"\"\" Return a formatted string representation to visualize a tree \"\"\"\n",
    "    spaces = '   '\n",
    "    def helper(tree, level):\n",
    "        if not tree:\n",
    "            return \"\"\n",
    "        val = tree[0]\n",
    "        children = tree[1:]\n",
    "        result = spaces*level + str(val) + '\\n'\n",
    "        for child in children:\n",
    "            result += helper(child, level+1)\n",
    "        return result\n",
    "    return helper(tree, 0)"
   ]
  },
  {
   "cell_type": "code",
   "execution_count": null,
   "metadata": {},
   "outputs": [],
   "source": [
    "print(\"tree4:\", tree4, \"\\n\", show_tree(tree4))"
   ]
  },
  {
   "cell_type": "markdown",
   "metadata": {},
   "source": [
    "## Finally, consider some functions that recurse on graphs...\n",
    "For this, we need a more sophisticated structure, since a node may be referenced from more than one other node. We'll represent a (directed) graph as a dictionary with node names as keys, and associated with the key is a list holding the node value and a list of children node names. The special name 'root' is the root of the graph.\n",
    "\n",
    "<center><img src=\"images/graph1.png\" alt=\"graph1\" width=200></center>"
   ]
  },
  {
   "cell_type": "code",
   "execution_count": null,
   "metadata": {
    "collapsed": true
   },
   "outputs": [],
   "source": [
    "graph1 = {'root': [13, ['A', 'B']],\n",
    "          'A': [77, ['B', 'C']],\n",
    "          'B': [88, []],\n",
    "          'C': [-32, ['D']],\n",
    "          'D': [42, []]}"
   ]
  },
  {
   "cell_type": "code",
   "execution_count": null,
   "metadata": {
    "collapsed": true
   },
   "outputs": [],
   "source": [
    "@instrument\n",
    "def graph_max(graph):\n",
    "    \"\"\"Walk a graph, returning the maximum value in a (non-empty) graph.\n",
    "    First, we'll assume there are no cycles in the graph. \n",
    "    \"\"\"\n",
    "    @instrument\n",
    "    def node_max(node_name):\n",
    "        pass\n",
    "    \n",
    "    return node_max('root')"
   ]
  },
  {
   "cell_type": "code",
   "execution_count": null,
   "metadata": {},
   "outputs": [],
   "source": [
    "graph_max(graph1)"
   ]
  },
  {
   "cell_type": "markdown",
   "metadata": {},
   "source": [
    "What do we do if there *are* cycles in the graph, e.g.\n",
    "\n",
    "<center><img src=\"images/graph_cycle.png\" alt=\"graph with cycle\" width=220></center>"
   ]
  },
  {
   "cell_type": "code",
   "execution_count": null,
   "metadata": {
    "collapsed": true
   },
   "outputs": [],
   "source": [
    "graph2 = {'root': [13, ['A', 'B']],\n",
    "          'A': [77, ['B', 'C']],\n",
    "          'B': [88, []],\n",
    "          'C': [-32, ['D']],\n",
    "          'D': [42, ['A']]} #changed; now D -> A"
   ]
  },
  {
   "cell_type": "code",
   "execution_count": null,
   "metadata": {
    "collapsed": true
   },
   "outputs": [],
   "source": [
    "#graph_max(graph2) # breaks! (need to re-execute def graph_max afterwards for instrumentation)"
   ]
  },
  {
   "cell_type": "code",
   "execution_count": null,
   "metadata": {
    "collapsed": true
   },
   "outputs": [],
   "source": [
    "@instrument\n",
    "def graph_max2(graph):\n",
    "    \"\"\"Walk a graph, returning the maximum value in a (non-empty) graph.\n",
    "    Now, however, there might be cycles.\n",
    "    \"\"\"\n",
    "    @instrument\n",
    "    def node_max(node_name):\n",
    "        pass\n",
    "    \n",
    "    return node_max('root')"
   ]
  },
  {
   "cell_type": "code",
   "execution_count": null,
   "metadata": {},
   "outputs": [],
   "source": [
    "graph_max2(graph2)"
   ]
  },
  {
   "cell_type": "markdown",
   "metadata": {
    "collapsed": true
   },
   "source": [
    "# Recursive Lists\n",
    "It's possible to create a simple python list that has itself as an element. In essence, that means that python lists themselves might be \"graphs\" and have cycles in them, not just have a tree-like structure!"
   ]
  },
  {
   "cell_type": "code",
   "execution_count": null,
   "metadata": {},
   "outputs": [],
   "source": [
    "x = [0, 1, 2]\n",
    "x[1] = x\n",
    "print(\"x:\", x)\n",
    "print(\"x[1][1][1][1][1][1][1][1][1][1][2]:\", x[1][1][1][1][1][1][1][1][1][1][2])"
   ]
  },
  {
   "cell_type": "markdown",
   "metadata": {},
   "source": [
    "We'd like a version of deep_copy that could create a (separate standalone) copy of a recursive list, *with the same* structural sharing (including any cycles that might exist!) as in the original recursive list."
   ]
  },
  {
   "cell_type": "code",
   "execution_count": null,
   "metadata": {
    "collapsed": true
   },
   "outputs": [],
   "source": [
    "@instrument\n",
    "def deep_copy(old, copies=None):\n",
    "    if copies is None:\n",
    "        copies = {}\n",
    "\n",
    "    oid = id(old)      #get the unique python object-id for old\n",
    "\n",
    "    if oid in copies:  #base case: already copied object, just return it\n",
    "        return copies[oid]\n",
    "\n",
    "    if not isinstance(old, list):  #base case: not a list, remember & return it\n",
    "        copies[oid] = old\n",
    "        return copies[oid]\n",
    "    \n",
    "    #recursive case\n",
    "    copies[oid] = []\n",
    "    for e in old:\n",
    "        copies[oid].append(deep_copy(e, copies))\n",
    "    return copies[oid]"
   ]
  },
  {
   "cell_type": "code",
   "execution_count": null,
   "metadata": {},
   "outputs": [],
   "source": [
    "y = deep_copy(x)\n",
    "y[0] = 'zero'\n",
    "print(\"x:\", x)\n",
    "print(\"y:\", y)\n",
    "print(\"y[1][1][1][1][1][1][1][1][1][1][2]:\", y[1][1][1][1][1][1][1][1][1][1][2])"
   ]
  }
 ],
 "metadata": {
  "kernelspec": {
   "display_name": "Python 3",
   "language": "python",
   "name": "python3"
  },
  "language_info": {
   "codemirror_mode": {
    "name": "ipython",
    "version": 3
   },
   "file_extension": ".py",
   "mimetype": "text/x-python",
   "name": "python",
   "nbconvert_exporter": "python",
   "pygments_lexer": "ipython3",
   "version": "3.6.0"
  }
 },
 "nbformat": 4,
 "nbformat_minor": 2
}
