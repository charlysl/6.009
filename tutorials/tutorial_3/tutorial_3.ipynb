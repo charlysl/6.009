{
 "cells": [
  {
   "cell_type": "markdown",
   "metadata": {
    "deletable": true,
    "editable": true
   },
   "source": [
    "# Panda Internet Radio\n",
    "\n",
    "Goal: Programming the Panda \"next_song\" based on history of song likes and dislikes.\n",
    "\n",
    "Side Effect: Learning about `docstrings` and `doctests`\n",
    "\n",
    "_Note: This tutorial implements a slightly different spec than defined by the panda.ipyb readme and tested by test.py_"
   ]
  },
  {
   "cell_type": "markdown",
   "metadata": {
    "deletable": true,
    "editable": true
   },
   "source": [
    "## Distance Function\n",
    "\n",
    "A song is represented as a list of genes, it's \"genome\". Each gene can have value either 0 or 1.\n",
    "\n",
    "We want a `distance` function that will give us a sense of how different two songs are."
   ]
  },
  {
   "cell_type": "code",
   "execution_count": 1,
   "metadata": {
    "collapsed": true,
    "deletable": true,
    "editable": true
   },
   "outputs": [],
   "source": [
    "def distance(song_0, song_1):\n",
    "    \"\"\"\n",
    "    inputs: Two songs, defined by their genome.\n",
    "    returns: Distance between the songs. Distance is the \n",
    "      \"manhattan distance\" of genomes, i.e., the number \n",
    "      of genes differing between songs.\n",
    "    >>> song_0 = []\n",
    "    >>> song_1 = []\n",
    "    >>> distance(song_0, song_1)\n",
    "    0\n",
    "    >>> song_0 = [0]\n",
    "    >>> song_1 = [1]\n",
    "    >>> distance(song_0, song_1)\n",
    "    1\n",
    "    >>> distance(song_1, song_0)\n",
    "    1\n",
    "    >>> distance([0, 1], [1, 0])\n",
    "    2\n",
    "    >>> distance([0], [1, 1])\n",
    "    Traceback (most recent call last):\n",
    "     ...\n",
    "    ValueError: song genomes different length\n",
    "    \"\"\"\n",
    "    #dist = 0\n",
    "    #for gene in range(len(song_1)):\n",
    "    #    dist += abs(song_0[gene]-song_1[gene])\n",
    "    #return dist\n",
    "\n",
    "    if len(song_0) != len(song_1):\n",
    "        raise ValueError('song genomes different length')\n",
    "\n",
    "    return sum([abs(g0-g1) for g0, g1 in zip(song_0, song_1)])"
   ]
  },
  {
   "cell_type": "code",
   "execution_count": 2,
   "metadata": {
    "collapsed": false,
    "deletable": true,
    "editable": true,
    "scrolled": false
   },
   "outputs": [
    {
     "data": {
      "text/plain": [
       "2"
      ]
     },
     "execution_count": 2,
     "metadata": {},
     "output_type": "execute_result"
    }
   ],
   "source": [
    "distance([0, 1], [1, 0])"
   ]
  },
  {
   "cell_type": "markdown",
   "metadata": {
    "deletable": true,
    "editable": true
   },
   "source": [
    "## Docstrings and doctests\n",
    "\n",
    "**`doctests`** are test cases embedded within `docstrings`, that can actually be run and tested automatically:\n",
    "* Nothing output if all tests succeed\n",
    "* An error reported if one or more tests fail\n",
    "\n",
    "A useful approach is to include the following at the bottom of your file (e.g., your `lab.py`):"
   ]
  },
  {
   "cell_type": "code",
   "execution_count": 3,
   "metadata": {
    "collapsed": true,
    "deletable": true,
    "editable": true
   },
   "outputs": [],
   "source": [
    "if __name__ == '__main__':\n",
    "    # running lab.py invokes the doctests for *all* functions in the file...\n",
    "    import doctest\n",
    "    doctest.testmod()"
   ]
  },
  {
   "cell_type": "markdown",
   "metadata": {
    "deletable": true,
    "editable": true
   },
   "source": [
    "Inside jupyter, we'll instead invoke specific doctests directly, e.g.:"
   ]
  },
  {
   "cell_type": "code",
   "execution_count": 4,
   "metadata": {
    "collapsed": true,
    "deletable": true,
    "editable": true,
    "scrolled": false
   },
   "outputs": [],
   "source": [
    "import doctest\n",
    "doctest.run_docstring_examples(distance, globals(), verbose=False)"
   ]
  },
  {
   "cell_type": "markdown",
   "metadata": {
    "deletable": true,
    "editable": true
   },
   "source": [
    "## Average Distance\n",
    "\n",
    "Add another data structure -- a \"music dictionary\" consisting of song_ids as keys, and the corresponding genome for the song as the value.\n",
    "\n",
    "Now we'd like to get a sense of the average distance between one song and a whole list of other songs."
   ]
  },
  {
   "cell_type": "code",
   "execution_count": 5,
   "metadata": {
    "collapsed": true,
    "deletable": true,
    "editable": true
   },
   "outputs": [],
   "source": [
    "def average_distance(song_id_list, song_id, music):\n",
    "    \"\"\"\n",
    "    inputs: list of song_ids, a single song_id, and a music dictionary\n",
    "    returns: average distance, computed as the sum of distances\n",
    "      divided by the number of distances considered, between song given\n",
    "      by song_id and the songs in song_id_list\n",
    "    note: average_distance from empty list is 0\n",
    "    >>> music = {'Stairway': [0,0],\n",
    "    ...          '5th': [0,1],\n",
    "    ...          'Blues': [1,1],\n",
    "    ...          'Requiem': [1,0]}\n",
    "    >>> average_distance([], 'Stairway', music)\n",
    "    0.0\n",
    "    >>> average_distance(['Stairway'], 'Stairway', music)\n",
    "    0.0\n",
    "    >>> average_distance(['5th'], 'Stairway', music)\n",
    "    1.0\n",
    "    >>> average_distance(['5th','Blues'], 'Stairway', music)\n",
    "    1.5\n",
    "    >>> average_distance(['5th','Blues','Requiem'], 'Stairway', music)\n",
    "    1.3333333333333333\n",
    "    \"\"\"\n",
    "    dist = 0.0\n",
    "    for other in song_id_list:\n",
    "        dist += distance(music[song_id], music[other])\n",
    "    return dist/max(1, len(song_id_list))"
   ]
  },
  {
   "cell_type": "code",
   "execution_count": 6,
   "metadata": {
    "collapsed": true,
    "deletable": true,
    "editable": true
   },
   "outputs": [],
   "source": [
    "doctest.run_docstring_examples(average_distance, globals(), verbose=False)"
   ]
  },
  {
   "cell_type": "markdown",
   "metadata": {},
   "source": [
    "Note that doctest using string comparisons between the expected and actual output, not more sophisticated tests like ==. Thus in the above, we need 0.0 for  expected return values, not 0."
   ]
  },
  {
   "cell_type": "markdown",
   "metadata": {
    "deletable": true,
    "editable": true
   },
   "source": [
    "## Goodness Function\n",
    "\n",
    "The \"goodness\" of a song is defined to be the average distance of the song from a list of disliked songs, minus the average distance of the song from a list of liked songs. This is meant to favor songs far away from disliked songs, \n",
    "      but close to liked songs."
   ]
  },
  {
   "cell_type": "code",
   "execution_count": 7,
   "metadata": {
    "collapsed": true,
    "deletable": true,
    "editable": true
   },
   "outputs": [],
   "source": [
    "def goodness(likes, dislikes, song_id, music):\n",
    "    \"\"\"\n",
    "    inputs: likes, dislikes are lists of 'liked' and 'disliked' song_ids.\n",
    "            song_id is the id of a song we'd like to know the \"goodness\" of.\n",
    "            music is a music dictionary.\n",
    "    returns: \"goodness\" value (float) of song_id\n",
    "    >>> music = {'Stairway': [0,0],\n",
    "    ...          '5th': [0,1],\n",
    "    ...          'Blues': [1,1],\n",
    "    ...          'Requiem': [1,0]}\n",
    "    >>> likes = []\n",
    "    >>> dislikes = []\n",
    "    >>> goodness(likes, dislikes, 'Stairway', music)\n",
    "    0.0\n",
    "    >>> likes = ['Requiem']\n",
    "    >>> dislikes = ['5th', 'Blues']\n",
    "    >>> goodness(likes, dislikes, 'Stairway', music)\n",
    "    0.5\n",
    "    >>> goodness(likes, dislikes, 'Back in Black', music)\n",
    "    Traceback (most recent call last):\n",
    "     ...\n",
    "    KeyError: 'Back in Black'\n",
    "    \"\"\"\n",
    "    return average_distance(dislikes, song_id, music) - \\\n",
    "           average_distance(likes, song_id, music)"
   ]
  },
  {
   "cell_type": "code",
   "execution_count": 8,
   "metadata": {
    "collapsed": true,
    "deletable": true,
    "editable": true,
    "scrolled": false
   },
   "outputs": [],
   "source": [
    "doctest.run_docstring_examples(goodness, globals(), verbose=False)"
   ]
  },
  {
   "cell_type": "markdown",
   "metadata": {
    "deletable": true,
    "editable": true
   },
   "source": [
    "## Next Song\n",
    "\n",
    "Now to answer the key question -- what song should be picked next, based on previously played song likes and dislikes?\n"
   ]
  },
  {
   "cell_type": "code",
   "execution_count": 9,
   "metadata": {
    "collapsed": true,
    "deletable": true,
    "editable": true
   },
   "outputs": [],
   "source": [
    "def next_song(likes, dislikes, music):\n",
    "    \"\"\"\n",
    "    inputs: likes is list of 'liked' previously played song ids.\n",
    "            dislikes is list of 'disliked' previously played song ids.\n",
    "            music is a music dictionary.\n",
    "    returns: ID for unplayed song in dictionary with best goodness value\n",
    "\n",
    "    >>> music = {'Stairway': [0,0],\n",
    "    ...          '5th': [0,1],\n",
    "    ...          'Blues': [1,1],\n",
    "    ...          'Requiem': [1,0]}\n",
    "    >>> likes = []\n",
    "    >>> dislikes = ['Blues']\n",
    "    >>> next_song(likes, dislikes, music)\n",
    "    'Stairway'\n",
    "\n",
    "    >>> likes = ['Blues']\n",
    "    >>> dislikes = []\n",
    "    >>> nxt = next_song(likes, dislikes, music) \n",
    "    >>> nxt == '5th' or nxt == 'Requiem'\n",
    "    True\n",
    "    \"\"\"\n",
    "    played = set(likes) | set(dislikes)\n",
    "\n",
    "    best_song_id = None\n",
    "    best_goodness = 0\n",
    "\n",
    "    # consider all songs in music\n",
    "    for song_id in music:\n",
    "        # disregard songs that have played already\n",
    "        if song_id in played:\n",
    "            continue\n",
    "           \n",
    "        # what is the goodness of the song we're considering?\n",
    "        g = goodness(likes, dislikes, song_id, music)\n",
    "\n",
    "        # if song is better than best_goodness, update best_goodness\n",
    "        #if g > best_goodness:\n",
    "        if g > best_goodness or best_song_id is None: #FIXED\n",
    "            best_song_id = song_id\n",
    "            best_goodness = g\n",
    "            \n",
    "    # an alternative loop to the above, removing the internal if song_id check:\n",
    "    # for song_id in set(music.keys()) - played:\n",
    "\n",
    "    # at this point, considered all unplayed songs, and must've seen the best\n",
    "    return best_song_id"
   ]
  },
  {
   "cell_type": "code",
   "execution_count": 10,
   "metadata": {
    "collapsed": false,
    "deletable": true,
    "editable": true
   },
   "outputs": [],
   "source": [
    "doctest.run_docstring_examples(next_song, globals(), verbose=False)"
   ]
  },
  {
   "cell_type": "code",
   "execution_count": 11,
   "metadata": {
    "collapsed": false,
    "deletable": true,
    "editable": true
   },
   "outputs": [
    {
     "name": "stdout",
     "output_type": "stream",
     "text": [
      "next_song (best goodness) is song id: Requiem\n",
      "goodness for song id Stairway = -2.0\n",
      "goodness for song id Requiem = -1.0\n",
      "goodness for song id Blues = 0.0\n",
      "goodness for song id 5th = -1.0\n"
     ]
    }
   ],
   "source": [
    "# Let's debug this case a little more...\n",
    "music = {'Stairway': [0,0],\n",
    "         '5th': [0,1],\n",
    "         'Blues': [1,1],\n",
    "         'Requiem': [1,0]}\n",
    "likes = ['Blues']\n",
    "dislikes = []\n",
    "print('next_song (best goodness) is song id:', \n",
    "      next_song(likes, dislikes, music))\n",
    "for song_id in music:\n",
    "    print('goodness for song id', song_id, \"=\", \n",
    "          goodness(likes, dislikes, song_id, music))"
   ]
  },
  {
   "cell_type": "markdown",
   "metadata": {
    "deletable": true,
    "editable": true
   },
   "source": [
    "So, we only had one of the possible return values in our test case. Maybe we should be more thorough. Might the following work?\n",
    "<code>\n",
    "    >>> likes = ['Blues']\n",
    "    >>> dislikes = []\n",
    "    >>> next_song(likes, dislikes, music)\n",
    "    '5th'\n",
    "</code>"
   ]
  },
  {
   "cell_type": "markdown",
   "metadata": {
    "deletable": true,
    "editable": true
   },
   "source": [
    "Not really. So how deal with that ambiguous return value, using doctest?"
   ]
  },
  {
   "cell_type": "markdown",
   "metadata": {
    "deletable": true,
    "editable": true,
    "scrolled": false
   },
   "source": [
    "## Using Python random module to generate large test cases\n",
    "    \n",
    "(Note -- in 6.009 we're not allowing `import random`; but this gives you the idea)\n",
    "\n",
    "How do you check your output is correct?"
   ]
  },
  {
   "cell_type": "code",
   "execution_count": 12,
   "metadata": {
    "collapsed": true,
    "deletable": true,
    "editable": true
   },
   "outputs": [],
   "source": [
    "import random"
   ]
  },
  {
   "cell_type": "code",
   "execution_count": 13,
   "metadata": {
    "collapsed": true,
    "deletable": true,
    "editable": true
   },
   "outputs": [],
   "source": [
    "def generate_test(music_size, gene_length, like_size, dislike_size):\n",
    "    random.seed(6009) # A fixed random seed results in deterministic output.\n",
    "    music = {}\n",
    "    for i in range(music_size):\n",
    "        music[i] = [random.randint(0,1) for _ in range(gene_length)]\n",
    "    likes = random.sample(music.keys(), like_size)\n",
    "    dislikes = random.sample(music.keys(), dislike_size)\n",
    "    return music, likes, dislikes"
   ]
  },
  {
   "cell_type": "code",
   "execution_count": 14,
   "metadata": {
    "collapsed": false,
    "deletable": true,
    "editable": true
   },
   "outputs": [
    {
     "name": "stdout",
     "output_type": "stream",
     "text": [
      "music: {0: [0, 1, 0, 0, 1, 1, 0, 0, 1, 0], 1: [1, 1, 0, 1, 1, 0, 1, 0, 1, 1], 2: [1, 0, 1, 0, 1, 1, 0, 1, 0, 0], 3: [0, 0, 0, 1, 1, 0, 1, 1, 0, 0], 4: [0, 1, 0, 1, 1, 0, 1, 0, 1, 0], 5: [1, 0, 1, 0, 0, 0, 1, 0, 1, 1], 6: [0, 0, 0, 1, 0, 0, 0, 1, 1, 1], 7: [1, 0, 0, 1, 0, 1, 0, 1, 1, 0], 8: [0, 0, 0, 1, 1, 0, 1, 1, 1, 1], 9: [1, 0, 1, 1, 1, 0, 0, 0, 0, 1], 10: [0, 0, 0, 0, 1, 1, 1, 0, 1, 0], 11: [0, 1, 1, 1, 0, 1, 1, 0, 0, 0], 12: [0, 0, 1, 0, 0, 1, 1, 1, 1, 1], 13: [1, 1, 0, 0, 0, 1, 1, 0, 0, 1], 14: [0, 0, 0, 1, 0, 1, 1, 0, 0, 0], 15: [0, 0, 0, 1, 0, 0, 0, 0, 0, 0], 16: [0, 1, 0, 0, 1, 0, 1, 1, 0, 0], 17: [0, 1, 1, 0, 1, 0, 0, 0, 0, 0], 18: [0, 1, 1, 1, 1, 1, 0, 0, 1, 0], 19: [1, 0, 1, 1, 1, 0, 0, 1, 0, 1], 20: [0, 1, 0, 0, 0, 0, 1, 1, 1, 1], 21: [1, 1, 0, 0, 1, 0, 0, 0, 0, 0], 22: [0, 0, 1, 1, 0, 0, 1, 1, 0, 0], 23: [1, 1, 1, 1, 0, 0, 0, 0, 0, 0], 24: [1, 1, 0, 0, 0, 0, 0, 0, 0, 0], 25: [0, 0, 0, 1, 0, 1, 1, 1, 1, 1], 26: [1, 1, 0, 0, 1, 0, 0, 0, 1, 0], 27: [1, 1, 1, 1, 1, 1, 1, 1, 0, 1], 28: [1, 0, 1, 1, 1, 1, 1, 1, 1, 1], 29: [0, 1, 1, 1, 0, 1, 1, 1, 1, 0]}\n",
      "Example: song 1 = [1, 1, 0, 1, 1, 0, 1, 0, 1, 1]\n",
      "next_song_id: 4\n",
      "goodness: -4.1\n"
     ]
    }
   ],
   "source": [
    "music, likes, dislikes = generate_test(30, 10, 10, 0)\n",
    "print(\"music:\", music)\n",
    "print(\"Example: song 1 =\", music[1])\n",
    "\n",
    "next_song_id = next_song(likes, dislikes, music)\n",
    "print(\"next_song_id:\", next_song_id)\n",
    "print(\"goodness:\", goodness(likes, dislikes, next_song_id, music))"
   ]
  },
  {
   "cell_type": "markdown",
   "metadata": {
    "deletable": true,
    "editable": true
   },
   "source": [
    "How do we know if the next_song_id is reasonable or correct?"
   ]
  },
  {
   "cell_type": "code",
   "execution_count": 15,
   "metadata": {
    "collapsed": false,
    "deletable": true,
    "editable": true
   },
   "outputs": [
    {
     "data": {
      "text/plain": [
       "-4.1"
      ]
     },
     "execution_count": 15,
     "metadata": {},
     "output_type": "execute_result"
    }
   ],
   "source": [
    "# Check what the best goodness actually is, among unplayed songs...\n",
    "goodness_values = [goodness(likes, dislikes, song, music)\n",
    "                       for song in music\n",
    "                           if song not in likes and song not in dislikes]\n",
    "max(goodness_values)\n",
    "\n",
    "#or as a comprehension without building the list...\n",
    "max(goodness(likes, dislikes, song, music)\n",
    "        for song in music\n",
    "            if song not in likes and song not in dislikes)"
   ]
  },
  {
   "cell_type": "markdown",
   "metadata": {
    "collapsed": true,
    "deletable": true,
    "editable": true
   },
   "source": [
    "Note that now we're <b>writing more complicated code to verify</b> or check answers. That's a job most likely better suited to `unittest`!"
   ]
  }
 ],
 "metadata": {
  "kernelspec": {
   "display_name": "Python 3",
   "language": "python",
   "name": "python3"
  },
  "language_info": {
   "codemirror_mode": {
    "name": "ipython",
    "version": 3
   },
   "file_extension": ".py",
   "mimetype": "text/x-python",
   "name": "python",
   "nbconvert_exporter": "python",
   "pygments_lexer": "ipython3",
   "version": "3.5.1"
  }
 },
 "nbformat": 4,
 "nbformat_minor": 2
}
