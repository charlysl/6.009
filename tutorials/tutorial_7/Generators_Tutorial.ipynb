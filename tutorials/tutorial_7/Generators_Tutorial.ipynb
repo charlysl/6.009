{
 "cells": [
  {
   "cell_type": "markdown",
   "metadata": {
    "deletable": true,
    "editable": true
   },
   "source": [
    "## Generators\n",
    "Some simple examples and reminders (we saw the equivalents of these in lecture)"
   ]
  },
  {
   "cell_type": "code",
   "execution_count": 1,
   "metadata": {
    "collapsed": false,
    "deletable": true,
    "editable": true
   },
   "outputs": [
    {
     "name": "stdout",
     "output_type": "stream",
     "text": [
      "<generator object rec_range at 0x00000255F0242410>\n",
      "next element: 1\n",
      "2\n",
      "3\n",
      "4\n",
      "done with first loop using generator. Trying another loop now...\n"
     ]
    }
   ],
   "source": [
    "# Generator of integers from start through end-1\n",
    "\n",
    "def a_range(start, end):\n",
    "    # as a while loop\n",
    "    while start < end:\n",
    "        yield start\n",
    "        start += 1\n",
    "\n",
    "def rec_range(start, end):\n",
    "    # a recursive version\n",
    "    if start >= end:\n",
    "        return\n",
    "    yield start\n",
    "    for n in rec_range(start+1, end):\n",
    "        yield n\n",
    "    \n",
    "# cleaner: yield from vs. yield\n",
    "def my_range(start, end):\n",
    "    # a recursive version\n",
    "    if start >= end:\n",
    "        return\n",
    "    yield start\n",
    "    # continue with more yields, code\n",
    "    yield from my_range(start+1, end)\n",
    "    \n",
    "r = rec_range(1,5)\n",
    "print(r)\n",
    "print(\"next element:\", next(r)) #rarely used this way\n",
    "for i in r: #usually used like this\n",
    "    print(i)\n",
    "print(\"done with first loop using generator. Trying another loop now...\")\n",
    "for i in r: #already yielded all elements from r previously!\n",
    "    print(i)"
   ]
  },
  {
   "cell_type": "code",
   "execution_count": 1,
   "metadata": {
    "collapsed": false,
    "deletable": true,
    "editable": true
   },
   "outputs": [
    {
     "name": "stdout",
     "output_type": "stream",
     "text": [
      "[1, 2, 3, [1, 4, 5]]\n"
     ]
    }
   ],
   "source": [
    "# We can \"yield from\" any iterable...\n",
    "def test():\n",
    "    yield from {1,3,2} #can yield from any iterable\n",
    "    yield [1, 4, 5]\n",
    "    \n",
    "print(list(test())) \n",
    "#note that yielding from a SET may yield elements in any order"
   ]
  },
  {
   "cell_type": "markdown",
   "metadata": {
    "deletable": true,
    "editable": true
   },
   "source": [
    "What does \"return\" in a generator do? It signals that the generator is done (has no more elements to yield). Interestingly, the \"value\" returned by a return statement is *irrelevant* (not used):"
   ]
  },
  {
   "cell_type": "code",
   "execution_count": 2,
   "metadata": {
    "collapsed": false,
    "deletable": true,
    "editable": true
   },
   "outputs": [
    {
     "name": "stdout",
     "output_type": "stream",
     "text": [
      "[1, 2, 3, 4]\n"
     ]
    }
   ],
   "source": [
    "def my_range(start, end):\n",
    "    # a recursive version\n",
    "    if start >= end:\n",
    "        return \"Some other thing that gets ignored\"\n",
    "    yield(start)\n",
    "    # continue with more yields, code\n",
    "    yield from my_range(start+1, end)\n",
    "    \n",
    "print(list(my_range(1,5)))"
   ]
  },
  {
   "cell_type": "markdown",
   "metadata": {
    "deletable": true,
    "editable": true
   },
   "source": [
    "Reminder -- generators get used up!"
   ]
  },
  {
   "cell_type": "code",
   "execution_count": 3,
   "metadata": {
    "collapsed": false,
    "deletable": true,
    "editable": true
   },
   "outputs": [
    {
     "name": "stdout",
     "output_type": "stream",
     "text": [
      "x: [1, 2, 3, 4]\n",
      "y: []\n"
     ]
    }
   ],
   "source": [
    "nums_1_to_4 = my_range(1,5)\n",
    "x = list(nums_1_to_4)\n",
    "y = list(nums_1_to_4)\n",
    "print(\"x:\", x)\n",
    "print(\"y:\", y)"
   ]
  },
  {
   "cell_type": "markdown",
   "metadata": {
    "deletable": true,
    "editable": true
   },
   "source": [
    "### Converting a 'builder' function to an iterator\n",
    "A good way to think about, and write, a generator is to:\n",
    "1. write a function that creates a *list* of the all items you want to yield. This typically appends new values onto a \"results\" list\n",
    "2. replace the append/add operation with an appropriate yield\n",
    "\n",
    "For example:"
   ]
  },
  {
   "cell_type": "code",
   "execution_count": 5,
   "metadata": {
    "collapsed": false,
    "deletable": true,
    "editable": true
   },
   "outputs": [
    {
     "name": "stdout",
     "output_type": "stream",
     "text": [
      "list_range: [1, 2, 3, 4]\n",
      "another_list_range: [1, 2, 3, 4]\n",
      "list of gen_range: [1, 2, 3, 4]\n"
     ]
    }
   ],
   "source": [
    "def list_range(start, end):\n",
    "    result = []\n",
    "    if start >= end:\n",
    "        return result #becomes just a return, assuming already yielded all vals\n",
    "    return [start] + list_range(start+1, end) #becomes a yield, and a yield from\n",
    "\n",
    "def another_list_range(start, end, result=None):\n",
    "    if not result: \n",
    "        result = []\n",
    "    if start >= end:\n",
    "        return result #becomes just a return, assuming already yielded all vals\n",
    "    result.append(start) #becomes a yield\n",
    "    return another_list_range(start+1, end, result) #becomes a yield from\n",
    "\n",
    "# And a generator version...\n",
    "def gen_range(start, end):\n",
    "    if start >= end:\n",
    "        return\n",
    "    yield start\n",
    "    yield from gen_range(start+1, end)\n",
    "    \n",
    "print(\"list_range:\", list_range(1,5))\n",
    "print(\"another_list_range:\", another_list_range(1,5))\n",
    "print(\"list of gen_range:\", list(gen_range(1,5)))"
   ]
  },
  {
   "cell_type": "code",
   "execution_count": 6,
   "metadata": {
    "collapsed": false,
    "deletable": true,
    "editable": true
   },
   "outputs": [
    {
     "name": "stdout",
     "output_type": "stream",
     "text": [
      "list of bug_range: [1, <generator object bug_range at 0x00000255F0214DB0>]\n"
     ]
    }
   ],
   "source": [
    "# Bug: what if we \"yield gen_range\" at the end instead of \"yield from gen_range\"?\n",
    "def bug_range(start, end):\n",
    "    if start >= end:\n",
    "        return\n",
    "    yield start\n",
    "    yield bug_range(start+1, end)\n",
    "\n",
    "print(\"list of bug_range:\", list(bug_range(1,5)))"
   ]
  },
  {
   "cell_type": "markdown",
   "metadata": {
    "deletable": true,
    "editable": true
   },
   "source": [
    "### Powerset generator\n",
    "A generator for all subsets of elements in L; assumes elements in L are unique."
   ]
  },
  {
   "cell_type": "code",
   "execution_count": 7,
   "metadata": {
    "collapsed": true,
    "deletable": true,
    "editable": true,
    "scrolled": true
   },
   "outputs": [],
   "source": [
    "# yield all subset of list L; all elements of L assume to be unique\n",
    "def all_subsets(L):\n",
    "    if len(L) == 0:\n",
    "        yield set()\n",
    "    else:\n",
    "        first = {L[0]}\n",
    "        for s in all_subsets(L[1:]):\n",
    "            yield s\n",
    "            yield first | s"
   ]
  },
  {
   "cell_type": "code",
   "execution_count": 8,
   "metadata": {
    "collapsed": false,
    "deletable": true,
    "editable": true
   },
   "outputs": [
    {
     "name": "stdout",
     "output_type": "stream",
     "text": [
      "[set(), {1}, {2}, {1, 2}]\n"
     ]
    }
   ],
   "source": [
    "print(list(all_subsets([1,2])))"
   ]
  },
  {
   "cell_type": "code",
   "execution_count": 9,
   "metadata": {
    "collapsed": false,
    "deletable": true,
    "editable": true
   },
   "outputs": [
    {
     "name": "stdout",
     "output_type": "stream",
     "text": [
      "[set(), {1}, {2}, {1, 2}, {3}, {1, 3}, {2, 3}, {1, 2, 3}]\n"
     ]
    }
   ],
   "source": [
    "print(list(all_subsets([1,2,3])))"
   ]
  },
  {
   "cell_type": "markdown",
   "metadata": {
    "deletable": true,
    "editable": true
   },
   "source": [
    "### Powerset generator (with print statements to understand operation)"
   ]
  },
  {
   "cell_type": "code",
   "execution_count": 10,
   "metadata": {
    "collapsed": true,
    "deletable": true,
    "editable": true
   },
   "outputs": [],
   "source": [
    "# yield all subset of list L; all elements of L assume to be unique\n",
    "def all_subsets(L):\n",
    "    print(\"call all_subsets with L =\", L)\n",
    "    if len(L) == 0:\n",
    "        print(\"yield empty set\")\n",
    "        yield set()\n",
    "    else:\n",
    "        first = {L[0]}\n",
    "        print(\"first =\", first)\n",
    "        for s in all_subsets(L[1:]):\n",
    "            print(\"yield s =\", s)\n",
    "            yield s\n",
    "            print(\"yield\", first, \"|\", s, \"=\", first | s)\n",
    "            yield first | s\n",
    "    print(\"return -- nothing more to yield\")"
   ]
  },
  {
   "cell_type": "code",
   "execution_count": 11,
   "metadata": {
    "collapsed": false,
    "deletable": true,
    "editable": true
   },
   "outputs": [
    {
     "name": "stdout",
     "output_type": "stream",
     "text": [
      "call all_subsets with L = [1, 2]\n",
      "first = {1}\n",
      "call all_subsets with L = [2]\n",
      "first = {2}\n",
      "call all_subsets with L = []\n",
      "yield empty set\n",
      "yield s = set()\n",
      "yield s = set()\n",
      "yield {1} | set() = {1}\n",
      "yield {2} | set() = {2}\n",
      "yield s = {2}\n",
      "yield {1} | {2} = {1, 2}\n",
      "return -- nothing more to yield\n",
      "return -- nothing more to yield\n",
      "return -- nothing more to yield\n"
     ]
    },
    {
     "data": {
      "text/plain": [
       "[set(), {1}, {2}, {1, 2}]"
      ]
     },
     "execution_count": 11,
     "metadata": {},
     "output_type": "execute_result"
    }
   ],
   "source": [
    "list(all_subsets([1,2]))"
   ]
  },
  {
   "cell_type": "markdown",
   "metadata": {
    "deletable": true,
    "editable": true
   },
   "source": [
    "### Generator for all subsets of given size\n",
    "Recall our all_subsets generator"
   ]
  },
  {
   "cell_type": "code",
   "execution_count": 12,
   "metadata": {
    "collapsed": true,
    "deletable": true,
    "editable": true
   },
   "outputs": [],
   "source": [
    "# yield all subset of list L; all elements of L assume to be unique\n",
    "def all_subsets(L):\n",
    "    if len(L) == 0:\n",
    "        yield set()\n",
    "    else:\n",
    "        first = {L[0]}\n",
    "        for s in all_subsets(L[1:]):\n",
    "            yield s\n",
    "            yield first | s"
   ]
  },
  {
   "cell_type": "code",
   "execution_count": 13,
   "metadata": {
    "collapsed": false,
    "deletable": true,
    "editable": true
   },
   "outputs": [
    {
     "data": {
      "text/plain": [
       "[set(), {1}, {2}, {1, 2}, {3}, {1, 3}, {2, 3}, {1, 2, 3}]"
      ]
     },
     "execution_count": 13,
     "metadata": {},
     "output_type": "execute_result"
    }
   ],
   "source": [
    "list(all_subsets([1,2,3]))"
   ]
  },
  {
   "cell_type": "markdown",
   "metadata": {
    "deletable": true,
    "editable": true
   },
   "source": [
    "### brain-dead version: all_subsets_of_size\n",
    "A very inefficient all_subsets_of_size:"
   ]
  },
  {
   "cell_type": "code",
   "execution_count": 14,
   "metadata": {
    "collapsed": true,
    "deletable": true,
    "editable": true
   },
   "outputs": [],
   "source": [
    "# yield all subsets of L equal in size to size\n",
    "# NOTE: horrible version not likely to ever earn full credit in 6.009!\n",
    "def all_subsets_of_size(L, size):\n",
    "    for s in all_subsets(L):\n",
    "        if len(s) == size:\n",
    "            yield s"
   ]
  },
  {
   "cell_type": "code",
   "execution_count": 15,
   "metadata": {
    "collapsed": false,
    "deletable": true,
    "editable": true
   },
   "outputs": [
    {
     "name": "stdout",
     "output_type": "stream",
     "text": [
      "[{1, 2}, {1, 3}, {2, 3}]\n"
     ]
    }
   ],
   "source": [
    "print(list(all_subsets_of_size([1,2,3], 2)))"
   ]
  },
  {
   "cell_type": "code",
   "execution_count": 16,
   "metadata": {
    "collapsed": false,
    "deletable": true,
    "editable": true
   },
   "outputs": [
    {
     "name": "stdout",
     "output_type": "stream",
     "text": [
      "[set()]\n"
     ]
    }
   ],
   "source": [
    "print(list(all_subsets_of_size(list(range(1,10)), 0))) # try with larger values than 10, e.g., 25"
   ]
  },
  {
   "cell_type": "markdown",
   "metadata": {
    "deletable": true,
    "editable": true
   },
   "source": [
    "It \"works\" for small enuogh L and size, but it's <b>horrible</b>. (Why?)\n",
    "\n",
    "So let's write a direct generator...\n",
    "### direct generator version: all_subsets_of_size"
   ]
  },
  {
   "cell_type": "code",
   "execution_count": 17,
   "metadata": {
    "collapsed": true,
    "deletable": true,
    "editable": true
   },
   "outputs": [],
   "source": [
    "# yield all subsets of L equal in size to size\n",
    "def all_subsets_of_size(L, size):\n",
    "    return # Exercise left to student\n",
    "\n"
   ]
  },
  {
   "cell_type": "code",
   "execution_count": null,
   "metadata": {
    "collapsed": false,
    "deletable": true,
    "editable": true
   },
   "outputs": [],
   "source": [
    "print(list(all_subsets_of_size([1,2,3], 2)))"
   ]
  }
 ],
 "metadata": {
  "kernelspec": {
   "display_name": "Python 3",
   "language": "python",
   "name": "python3"
  },
  "language_info": {
   "codemirror_mode": {
    "name": "ipython",
    "version": 3
   },
   "file_extension": ".py",
   "mimetype": "text/x-python",
   "name": "python",
   "nbconvert_exporter": "python",
   "pygments_lexer": "ipython3",
   "version": "3.5.1"
  }
 },
 "nbformat": 4,
 "nbformat_minor": 2
}
