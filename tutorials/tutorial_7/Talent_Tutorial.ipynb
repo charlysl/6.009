{
 "cells": [
  {
   "cell_type": "code",
   "execution_count": 1,
   "metadata": {
    "collapsed": true,
    "deletable": true,
    "editable": true
   },
   "outputs": [],
   "source": [
    "from instrument import instrument"
   ]
  },
  {
   "cell_type": "markdown",
   "metadata": {
    "deletable": true,
    "editable": true
   },
   "source": [
    "# 6.009 Tutorial 7 -- Who's Got Talent?\n",
    "## Introduction\n",
    "\n",
    "We are auditioning candidates for a show called \"Who's got\n",
    "Talent?\" Each candidate is capable of performing a set of\n",
    "talents. Some candidates might be capable of performing multiple\n",
    "talents (e.g., Singing, Dancing, Humor, etc.), while others might be\n",
    "able to perform only one or none at all. In this lab you will write an\n",
    "algorithm for selecting which candidates to perform on the show. Every\n",
    "selected candidate will perform all of his or her talents. The\n",
    "producer has given you two constraints.\n",
    "\n",
    "First, the producer wants \"Who's Got Talent?\" to draw a wide audience\n",
    "-- this means incorporating a wide range of talents into the show. You\n",
    "will be given a set of talents that the producer cares about. Every\n",
    "one of these talents must be performed in the show.\n",
    "\n",
    "Second, the producer wants to limit costs, which are proportional to\n",
    "the number of performers. You need to select as few performers as\n",
    "possible.\n",
    "\n",
    "Thus your ultimate goal is to select the fewest possible number of performers,\n",
    "while still ensuring that every talent that the producer cares about\n",
    "will be performed."
   ]
  },
  {
   "cell_type": "markdown",
   "metadata": {
    "deletable": true,
    "editable": true
   },
   "source": [
    "\n",
    "\n",
    "## Problem Setup -- with an Example\n",
    "\n",
    "There are multiple ways to represent our universe of candidates and\n",
    "talents. For your convenience we provide two list-of-list\n",
    "representations, `candidate_to_talents` and\n",
    "`talent_to_candidates`. `candidate_to_talents[c]` is the list of\n",
    "talents that Candidate `c` is able to perform. On the other hand,\n",
    "`talent_to_candidates[t]` is the list of candidates who are able\n",
    "to perform Talent `t`. **For convenience, we assume that the producer\n",
    "wants to include every talent in the show.** (This is not much of an\n",
    "assumption, because otherwise we could define our universe to only\n",
    "include the talents that the producer cares about.)\n",
    "\n",
    "For example, consider the following candidate-talent universe, where\n",
    "\"x\" denotes the ability of a candidate:\n",
    "\n",
    "| Candidate   |  Talent 0 |  Talent 1 |  Talent 2 |  Talent 3|\n",
    "|-------------|-----------|-----------|-----------|----------|\n",
    "| Candidate 0 |     x     |     x     |     x     |    x     |\n",
    "| Candidate 1 |           |     x     |           |    x     |\n",
    "| Candidate 2 |           |     x     |     x     |          ||\n",
    "\n",
    "In our representation, `candidate_to_talents` is the following list of\n",
    "lists:\n",
    "\n",
    "```\n",
    "candidate_to_talents[0] = [0, 1, 2, 3]\n",
    "candidate_to_talents[1] = [1, 3]\n",
    "candidate_to_talents[2] = [1, 2]\n",
    "```\n",
    "\n",
    "Similarly, `talent_to_candidates` is the following list of lists:\n",
    "\n",
    "```\n",
    "talent_to_candidates[0] = [0]\n",
    "talent_to_candidates[1] = [0, 1, 2]\n",
    "talent_to_candidates[2] = [0, 2]\n",
    "talent_to_candidates[3] = [0, 1]\n",
    "```"
   ]
  },
  {
   "cell_type": "markdown",
   "metadata": {
    "deletable": true,
    "editable": true
   },
   "source": [
    "## Implementation -- select_candidates                     \n",
    "Inputs\n",
    "* num_candidates: number of candidates; candidates are numbered 0 to (num_candidates - 1)\n",
    "* num_talents: number of talents; talents are numbered 0 to (num_talents - 1)\n",
    "* candidate_to_talents: list of lists; candidates_to_talents[c] is a list of talents that Candidate c is able to perform\n",
    "* talent_to_candidates: list of lists; talent_to_candidates[t] is a list of candidates who are able to perform Talent t\n",
    "\n",
    "Output\n",
    "* list of candidate indices, of minimal length to cover the talents. If no solution exists, return an empty list []."
   ]
  },
  {
   "cell_type": "markdown",
   "metadata": {
    "deletable": true,
    "editable": true
   },
   "source": [
    "## Brute Force Approach\n",
    "Idea: try *all* combinations of candidates, and pick the one that covers all of the talents, with the smallest number of candidates."
   ]
  },
  {
   "cell_type": "code",
   "execution_count": 6,
   "metadata": {
    "collapsed": true,
    "deletable": true,
    "editable": true
   },
   "outputs": [],
   "source": [
    "def select_candidates(num_candidates, num_talents,\n",
    "                      candidate_to_talents, talent_to_candidates):\n",
    "    \n",
    "    # does set of candidates cover all the talents?\n",
    "    def covers(cset):\n",
    "        pass    \n",
    "    \n",
    "    # look at all possible candidate sets, and pick best (smallest) one\n",
    "    all_candidate_sets = \"assume I have this\"\n",
    "    \n",
    "    ...\n",
    "    \n",
    "    \n",
    "    \n",
    "    \n",
    "    \n",
    "    \n",
    "    \n",
    "    \n",
    "    "
   ]
  },
  {
   "cell_type": "code",
   "execution_count": null,
   "metadata": {
    "collapsed": true,
    "deletable": true,
    "editable": true
   },
   "outputs": [],
   "source": [
    "# yield all subsets of list L; all elements of L assume to be unique\n",
    "def all_subsets(L):\n",
    "    pass"
   ]
  },
  {
   "cell_type": "code",
   "execution_count": null,
   "metadata": {
    "collapsed": false,
    "deletable": true,
    "editable": true
   },
   "outputs": [],
   "source": [
    "list(all_subsets([1,2,3]))"
   ]
  },
  {
   "cell_type": "markdown",
   "metadata": {
    "deletable": true,
    "editable": true
   },
   "source": [
    "### Visualization Utility\n",
    "A utility to help us visualize talents (horizontal) for each candidate (vertical)"
   ]
  },
  {
   "cell_type": "code",
   "execution_count": 2,
   "metadata": {
    "collapsed": true,
    "deletable": true,
    "editable": true
   },
   "outputs": [],
   "source": [
    "def get_matrix(num_candidates, num_talents, \n",
    "               candidate_to_talents, talent_to_candidates):\n",
    "    return [[1 if t in candidate_to_talents[c] else 0 \\\n",
    "             for t in range(num_talents)] for c in range(num_candidates)]"
   ]
  },
  {
   "cell_type": "code",
   "execution_count": 3,
   "metadata": {
    "collapsed": true,
    "deletable": true,
    "editable": true
   },
   "outputs": [],
   "source": [
    "def print_matrix(m):\n",
    "    print(\"              Talents ->\")\n",
    "    for r in range(len(m)):\n",
    "        print(\"Candidate {0:2d}:\".format(r), m[r])"
   ]
  },
  {
   "cell_type": "markdown",
   "metadata": {
    "deletable": true,
    "editable": true
   },
   "source": [
    "### Our Example"
   ]
  },
  {
   "cell_type": "code",
   "execution_count": 4,
   "metadata": {
    "collapsed": false,
    "deletable": true,
    "editable": true
   },
   "outputs": [
    {
     "name": "stdout",
     "output_type": "stream",
     "text": [
      "              Talents ->\n",
      "Candidate  0: [1, 1, 1, 1]\n",
      "Candidate  1: [0, 1, 0, 1]\n",
      "Candidate  2: [0, 1, 1, 0]\n"
     ]
    }
   ],
   "source": [
    "num_candidates = 3\n",
    "num_talents = 4\n",
    "candidate_to_talents = [[0, 1, 2, 3], [1, 3], [1, 2]]\n",
    "talent_to_candidates = [[0], [0, 1, 2], [0, 2], [0, 1]]\n",
    "print_matrix(get_matrix(num_candidates, num_talents, \n",
    "                        candidate_to_talents, talent_to_candidates))"
   ]
  },
  {
   "cell_type": "code",
   "execution_count": 7,
   "metadata": {
    "collapsed": false,
    "deletable": true,
    "editable": true
   },
   "outputs": [],
   "source": [
    "select_candidates(num_candidates, num_talents, \n",
    "                  candidate_to_talents, talent_to_candidates)"
   ]
  },
  {
   "cell_type": "markdown",
   "metadata": {
    "deletable": true,
    "editable": true
   },
   "source": [
    "### Test 1: Small, Simple Case"
   ]
  },
  {
   "cell_type": "code",
   "execution_count": 8,
   "metadata": {
    "collapsed": false,
    "deletable": true,
    "editable": true,
    "scrolled": true
   },
   "outputs": [
    {
     "name": "stdout",
     "output_type": "stream",
     "text": [
      "              Talents ->\n",
      "Candidate  0: [1, 0, 0]\n",
      "Candidate  1: [0, 1, 0]\n",
      "Candidate  2: [0, 0, 1]\n"
     ]
    }
   ],
   "source": [
    "num_candidates = 3\n",
    "num_talents = 3\n",
    "candidate_to_talents = [[0], [1], [2]]\n",
    "talent_to_candidates = [[0], [1], [2]]\n",
    "print_matrix(get_matrix(num_candidates, num_talents, \n",
    "                        candidate_to_talents, talent_to_candidates))"
   ]
  },
  {
   "cell_type": "code",
   "execution_count": null,
   "metadata": {
    "collapsed": false,
    "deletable": true,
    "editable": true
   },
   "outputs": [],
   "source": [
    "select_candidates(num_candidates, num_talents, \n",
    "                  candidate_to_talents, talent_to_candidates)"
   ]
  },
  {
   "cell_type": "markdown",
   "metadata": {
    "deletable": true,
    "editable": true
   },
   "source": [
    "### Test 2: Large, Simple Case"
   ]
  },
  {
   "cell_type": "code",
   "execution_count": null,
   "metadata": {
    "collapsed": false,
    "deletable": true,
    "editable": true
   },
   "outputs": [],
   "source": [
    "num_candidates = 10\n",
    "num_talents = 10\n",
    "candidate_to_talents = [[0], [1], [2], [3], [4], [5], [6], [7], [8], \n",
    "                        [0, 1, 2, 3, 4, 5, 6, 7, 8, 9]]\n",
    "talent_to_candidates = [[0, 9], [1, 9], [2, 9], [3, 9], [4, 9], [5, 9],\n",
    "                        [6, 9], [7, 9], [8, 9], [9]]\n",
    "print_matrix(get_matrix(num_candidates, num_talents, \n",
    "                        candidate_to_talents, talent_to_candidates))"
   ]
  },
  {
   "cell_type": "code",
   "execution_count": null,
   "metadata": {
    "collapsed": false,
    "deletable": true,
    "editable": true
   },
   "outputs": [],
   "source": [
    "select_candidates(num_candidates, num_talents, \n",
    "                  candidate_to_talents, talent_to_candidates)"
   ]
  },
  {
   "cell_type": "code",
   "execution_count": null,
   "metadata": {
    "collapsed": false,
    "deletable": true,
    "editable": true
   },
   "outputs": [],
   "source": [
    "print(2**num_candidates)"
   ]
  },
  {
   "cell_type": "markdown",
   "metadata": {
    "deletable": true,
    "editable": true
   },
   "source": [
    "### Test 3: No Solution case"
   ]
  },
  {
   "cell_type": "code",
   "execution_count": null,
   "metadata": {
    "collapsed": false,
    "deletable": true,
    "editable": true
   },
   "outputs": [],
   "source": [
    "num_candidates = 4\n",
    "num_talents = 5\n",
    "candidate_to_talents = [[0], [1], [2], [3]]\n",
    "talent_to_candidates = [[0], [1], [2], [3], []]\n",
    "print_matrix(get_matrix(num_candidates, num_talents, \n",
    "                        candidate_to_talents, talent_to_candidates))"
   ]
  },
  {
   "cell_type": "code",
   "execution_count": null,
   "metadata": {
    "collapsed": false,
    "deletable": true,
    "editable": true
   },
   "outputs": [],
   "source": [
    "select_candidates(num_candidates, num_talents, \n",
    "                  candidate_to_talents, talent_to_candidates)\n",
    "print(2**num_candidates)"
   ]
  },
  {
   "cell_type": "markdown",
   "metadata": {
    "deletable": true,
    "editable": true
   },
   "source": [
    "### Test 6: Non-Greedy case"
   ]
  },
  {
   "cell_type": "code",
   "execution_count": null,
   "metadata": {
    "collapsed": false,
    "deletable": true,
    "editable": true
   },
   "outputs": [],
   "source": [
    "num_candidates = 4\n",
    "num_talents = 6\n",
    "candidate_to_talents = [[0, 1], [2, 3], [4, 5], [0, 2, 4]]\n",
    "talent_to_candidates = [[0, 3], [0], [1, 3], [1], [2, 3], [2]]\n",
    "print_matrix(get_matrix(num_candidates, num_talents, \n",
    "                        candidate_to_talents, talent_to_candidates))"
   ]
  },
  {
   "cell_type": "markdown",
   "metadata": {
    "deletable": true,
    "editable": true
   },
   "source": [
    "If we take Candidate 3, we'll *still* need the other three to cover all of the talents. So a 'greedy' approach successively grabbing the candidate with the most talent until all talents are filled would fail to find the smallest group of candidates..."
   ]
  },
  {
   "cell_type": "code",
   "execution_count": null,
   "metadata": {
    "collapsed": false,
    "deletable": true,
    "editable": true
   },
   "outputs": [],
   "source": [
    "select_candidates(num_candidates, num_talents, \n",
    "                  candidate_to_talents, talent_to_candidates)\n",
    "print(2**num_candidates)"
   ]
  },
  {
   "cell_type": "markdown",
   "metadata": {
    "deletable": true,
    "editable": true
   },
   "source": [
    "### Test 7: Big Non-Greedy case"
   ]
  },
  {
   "cell_type": "code",
   "execution_count": null,
   "metadata": {
    "collapsed": false,
    "deletable": true,
    "editable": true
   },
   "outputs": [],
   "source": [
    "num_candidates = 17\n",
    "num_talents = 18\n",
    "candidate_to_talents = [[0, 3, 6], [3, 4, 5], [6, 7, 8], [9, 10, 11], \n",
    "                        [12, 13, 14], [15, 16, 17], [0, 1, 2], [17], \n",
    "                        [1, 4], [7, 10], [13, 16], [2], [5], [8], [11], \n",
    "                        [14], [9, 12, 15]]\n",
    "talent_to_candidates = [[0, 6], [6, 8], [6, 11], [0, 1], [1, 8], [1, 12],\n",
    "                        [0, 2], [2, 9], [2, 13], [3, 16], [3, 9], [3, 14],\n",
    "                        [4, 16], [4, 10], [4, 15], [5, 6], [5, 10], [5, 7]]\n",
    "print_matrix(get_matrix(num_candidates, num_talents, \n",
    "                        candidate_to_talents, talent_to_candidates))"
   ]
  },
  {
   "cell_type": "markdown",
   "metadata": {
    "deletable": true,
    "editable": true
   },
   "source": [
    "Candidates 1 through 6 cover our talents; but if we take Candidate 0, we still need Candidates 1 through 6. So our algorithm should decline to take Candidate 0..."
   ]
  },
  {
   "cell_type": "code",
   "execution_count": null,
   "metadata": {
    "collapsed": false,
    "deletable": true,
    "editable": true
   },
   "outputs": [],
   "source": [
    "select_candidates(num_candidates, num_talents, \n",
    "                  candidate_to_talents, talent_to_candidates)\n",
    "print(2**num_candidates)"
   ]
  },
  {
   "cell_type": "markdown",
   "metadata": {
    "collapsed": true,
    "deletable": true,
    "editable": true
   },
   "source": [
    "## Better version\n",
    "In the brute force approach, we consider *every* grouping of candidates. But what if the very first candidate satisties all of the talents?  That would mean a lot of wasted work to look at all the other cases!\n",
    "\n",
    "More generally, we'd like a better version of `select_candidates` that doesn't waste time on cases that can't be better than the best we've found so far -- i.e., if we're just adding candidates to the chosen list, but the chosen list being considered is already larger in size than the best previously found best list of candidates."
   ]
  },
  {
   "cell_type": "code",
   "execution_count": null,
   "metadata": {
    "collapsed": true,
    "deletable": true,
    "editable": true
   },
   "outputs": [],
   "source": [
    "def select_candidates(num_candidates, num_talents,\n",
    "                      candidate_to_talents, talent_to_candidates):\n",
    "    global call_count\n",
    "    call_count = 0\n",
    "\n",
    "    # use sets for fast intersections and differences\n",
    "    c_to_t = [set(candidate_to_talents[c]) for c in range(num_candidates)]\n",
    "\n",
    "    # return best (smallest) set of candidates that provide the needed talents\n",
    "    #  needed_talents = set of talents needed\n",
    "    #  available = list of available candidates\n",
    "    #  chosen = list of candidates chosen so far\n",
    "    #  best = best solution found so far (None == no solution)\n",
    "    #@instrument\n",
    "    def helper(needed_talents, available, chosen, best):\n",
    "        global call_count\n",
    "        call_count += 1\n",
    "\n",
    "        # have we found a solution?  [base case]\n",
    "        if len(needed_talents) == 0:\n",
    "            return chosen if best is None or len(chosen) < len(best) else best\n",
    "        \n",
    "        # optimization #1: we already know a better solution\n",
    "        if best is not None and len(chosen) >= len(best): return best\n",
    "\n",
    "        # optimization #2: only consider candidates with at least one needed talent\n",
    "        available = [c for c in available if c_to_t[c] & needed_talents]\n",
    "\n",
    "        # are we out of candidates?  [base case] \n",
    "        if len(available) == 0: return best\n",
    "\n",
    "        # see which works best: either using the first candidate or not\n",
    "        first = available[0]   # trial candidate\n",
    "        rest = available[1:]   # remaining candidates\n",
    "        \n",
    "        # try solution without using trail candidate [recursive case]\n",
    "        if rest:\n",
    "            best = helper(needed_talents, rest, chosen, best)\n",
    "\n",
    "        # try solution using trial candidate [recursive case]\n",
    "        best = helper(needed_talents - c_to_t[first], rest, chosen + [first], best)\n",
    "\n",
    "        return best\n",
    "\n",
    "    # initially we need all the talents, all candidates are available,\n",
    "    # no one has been chosen, and we have no best solution\n",
    "    needed_talents = set(range(num_talents))\n",
    "    available = list(range(num_candidates))\n",
    "    result = helper(needed_talents, available, [], None)\n",
    "\n",
    "    print(\"num_candidates:\", num_candidates, \"; num recursive calls:\", call_count, \"; best:\", result)\n",
    "\n",
    "    # put result in desired form\n",
    "    return result or []"
   ]
  },
  {
   "cell_type": "markdown",
   "metadata": {
    "deletable": true,
    "editable": true
   },
   "source": [
    "Now we can go back and run our test cases... and see if they indeed require looking at fewer combinations of candidates!"
   ]
  },
  {
   "cell_type": "markdown",
   "metadata": {
    "deletable": true,
    "editable": true
   },
   "source": [
    "### Test 1: Small, Simple Case (revisited, showing recursion call structure)"
   ]
  },
  {
   "cell_type": "code",
   "execution_count": null,
   "metadata": {
    "collapsed": false,
    "deletable": true,
    "editable": true
   },
   "outputs": [],
   "source": [
    "num_candidates = 3\n",
    "num_talents = 3\n",
    "candidate_to_talents = [[0], [1], [2]]\n",
    "talent_to_candidates = [[0], [1], [2]]\n",
    "print_matrix(get_matrix(num_candidates, num_talents, \n",
    "                        candidate_to_talents, talent_to_candidates))"
   ]
  },
  {
   "cell_type": "code",
   "execution_count": null,
   "metadata": {
    "collapsed": false,
    "deletable": true,
    "editable": true
   },
   "outputs": [],
   "source": [
    "select_candidates(num_candidates, num_talents, \n",
    "                  candidate_to_talents, talent_to_candidates)\n",
    "print(2**num_candidates)"
   ]
  },
  {
   "cell_type": "markdown",
   "metadata": {
    "deletable": true,
    "editable": true
   },
   "source": [
    "## Some additional things to try\n",
    "* See how the recursion progresses: try with instrumented version (uncomment `@instrument`)\n",
    "* Change the order of try solution with and without trial candidate; how does that change the recursion?\n",
    "* What is the complexity of the search?\n",
    "* How might we implement a breadth first search (i.e., to try all single candidate choices, followed by all two-candidate choices, etc.)?"
   ]
  },
  {
   "cell_type": "markdown",
   "metadata": {
    "deletable": true,
    "editable": true
   },
   "source": [
    "## Brute force breadth-first"
   ]
  },
  {
   "cell_type": "code",
   "execution_count": null,
   "metadata": {
    "collapsed": true,
    "deletable": true,
    "editable": true
   },
   "outputs": [],
   "source": [
    "## Try sets of candidates in order of size of sets (smaller sets first).\n",
    "## By definition, the first one we find will be minimal and be a best result.\n",
    "def bfbf_select_candidates(num_candidates, num_talents,\n",
    "                       candidate_to_talents, talent_to_candidates):\n",
    "    # use sets for fast intersections and differences\n",
    "    c_to_t = [set(candidate_to_talents[c]) for c in range(num_candidates)]\n",
    "\n",
    "    def covers(candidates):\n",
    "        talents = set()\n",
    "        for c in candidates:\n",
    "            talents.update(c_to_t[c])\n",
    "        return len(talents) == num_talents\n",
    "\n",
    "    candidates = list(range(num_candidates))\n",
    "    case_count = 0\n",
    "    for size in range(1,num_candidates+1):\n",
    "        for candidate_set in all_subsets_of_size(candidates, size):\n",
    "            case_count += 1\n",
    "            if covers(candidate_set):\n",
    "                print(\"num_candidates:\", num_candidates, \" num cases:\", case_count, \"best:\", candidate_set)\n",
    "                return list(candidate_set)\n",
    "    print(\"num_candidates:\", num_candidates, \" num cases:\", case_count, \"best:\", [])\n",
    "    return []"
   ]
  },
  {
   "cell_type": "code",
   "execution_count": null,
   "metadata": {
    "collapsed": false,
    "deletable": true,
    "editable": true
   },
   "outputs": [],
   "source": [
    "# yield all subsets of L equal in size to size\n",
    "def all_subsets_of_size(L, size):\n",
    "    pass # Left as exercise for the reader\n",
    "            \n",
    "#print(list(all_subsets_of_size([1,2,3], 2)))\n",
    "#[{2, 3}, {1, 3}, {1, 2}]"
   ]
  },
  {
   "cell_type": "markdown",
   "metadata": {
    "deletable": true,
    "editable": true
   },
   "source": [
    "This above is conceptually simple... but is still somewhat slow. The timing test below can be used to quantify (and compare to our other implementations).\n",
    "\n",
    "Why is this somewhat slow?\n",
    "We look at reasonable numbers of combinations, but we've ignored the cost of creating the\n",
    "combinations (using `all_subsets` or `all_subsets_of_size`). In this case, rebuilding sets of different sizes from scratch on each set size iteration can be costly. It also recalculates talent coverage for each new candidate set from scratch.\n",
    "\n",
    "So we might want to explore ways to speed those up, or better yet, to structure a select_candidates recursion that builds candidate cases from smaller to larger."
   ]
  },
  {
   "cell_type": "code",
   "execution_count": null,
   "metadata": {
    "collapsed": false,
    "deletable": true,
    "editable": true
   },
   "outputs": [],
   "source": [
    "import time\n",
    "num_candidates = 17\n",
    "num_talents = 18\n",
    "candidate_to_talents = [[0, 3, 6], [3, 4, 5], [6, 7, 8], [9, 10, 11], \n",
    "                        [12, 13, 14], [15, 16, 17], [0, 1, 2], [17], \n",
    "                        [1, 4], [7, 10], [13, 16], [2], [5], [8], [11], \n",
    "                        [14], [9, 12, 15]]\n",
    "talent_to_candidates = [[0, 6], [6, 8], [6, 11], [0, 1], [1, 8], [1, 12],\n",
    "                        [0, 2], [2, 9], [2, 13], [3, 16], [3, 9], [3, 14],\n",
    "                        [4, 16], [4, 10], [4, 15], [5, 6], [5, 10], [5, 7]]\n",
    "\n",
    "start = time.time()\n",
    "select_candidates(num_candidates, num_talents, \n",
    "                  candidate_to_talents, talent_to_candidates)\n",
    "end = time.time()\n",
    "print(\"time:\", end-start, \"sec\")\n",
    "print(2**num_candidates)"
   ]
  },
  {
   "cell_type": "code",
   "execution_count": null,
   "metadata": {
    "collapsed": false,
    "deletable": true,
    "editable": true
   },
   "outputs": [],
   "source": [
    "# BIG CASE for timing -- need ALL candidates\n",
    "import time\n",
    "num_candidates = 20\n",
    "num_talents = num_candidates\n",
    "candidate_to_talents = [[c] for c in range(num_candidates)]\n",
    "talent_to_candidates = [[t, num_candidates] for t in range(num_talents)]\n",
    "#print_matrix(get_matrix(num_candidates, num_talents, \n",
    "#                        candidate_to_talents, talent_to_candidates))\n",
    "\n",
    "start = time.time()\n",
    "select_candidates(num_candidates, num_talents, \n",
    "                  candidate_to_talents, talent_to_candidates)\n",
    "end = time.time()\n",
    "print(\"time:\", end-start, \"sec\")\n",
    "print(2**num_candidates)"
   ]
  }
 ],
 "metadata": {
  "kernelspec": {
   "display_name": "Python 3",
   "language": "python",
   "name": "python3"
  },
  "language_info": {
   "codemirror_mode": {
    "name": "ipython",
    "version": 3
   },
   "file_extension": ".py",
   "mimetype": "text/x-python",
   "name": "python",
   "nbconvert_exporter": "python",
   "pygments_lexer": "ipython3",
   "version": "3.5.1"
  }
 },
 "nbformat": 4,
 "nbformat_minor": 2
}
