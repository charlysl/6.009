{
 "cells": [
  {
   "cell_type": "markdown",
   "metadata": {
    "deletable": true,
    "editable": true
   },
   "source": [
    "# Tent Packing"
   ]
  },
  {
   "cell_type": "code",
   "execution_count": null,
   "metadata": {
    "collapsed": true,
    "deletable": true,
    "editable": true
   },
   "outputs": [],
   "source": [
    "from instrument import instrument"
   ]
  },
  {
   "cell_type": "code",
   "execution_count": null,
   "metadata": {
    "collapsed": true,
    "deletable": true,
    "editable": true
   },
   "outputs": [],
   "source": [
    "# Pack a tent with different sleeping bag shapes leaving no empty squares\n",
    "#\n",
    "# INPUTS:\n",
    "#   tent_size = (rows, cols) for tent grid\n",
    "#   missing_squares = set of (r, c) tuples giving location of rocks\n",
    "#   bag_list = list of sets, each decribing a sleeping bag shape\n",
    "#      Each set contains (r, c) tuples enumerating contiguous grid\n",
    "#      squares occupied by the bag, coords are relative to the upper-\n",
    "#      left corner of the bag.  You can assume every bag occupies\n",
    "#      at least the grid (0,0).\n",
    "#\n",
    "# Example bag_list entries:\n",
    "#      vertical 3x1 bag: { (0,0), (1,0), (2,0) }\n",
    "#      horizontal 1x3 bag: { (0,0), (0,1), (0,2) }\n",
    "#      square bag: { (0,0), (0,1), (1,0), (1,1) }\n",
    "#      L-shaped bag: { (0,0), (1,0), (1,1) }\n",
    "#      C-shaped bag: { (0,0), (0,1), (1,0), (2,0), (2,1) }\n",
    "#      reverse-C-shaped bag: { (0,0), (0,1), (1,1), (2,0), (2,1) }\n",
    "#\n",
    "# OUTPUT:\n",
    "#   None if no packing can be found; otherwise a list giving the\n",
    "#   placement and type for each placed bag expressed as a dictionary\n",
    "#   with keys\n",
    "#     \"anchor\": (r, c) for upper-left corner of bag\n",
    "#     \"shape\": index of bag on bag list"
   ]
  },
  {
   "cell_type": "markdown",
   "metadata": {
    "deletable": true,
    "editable": true
   },
   "source": [
    "### Recursive Backtracking Pattern: build on result of sub-problem"
   ]
  },
  {
   "cell_type": "code",
   "execution_count": null,
   "metadata": {
    "collapsed": true,
    "deletable": true,
    "editable": true
   },
   "outputs": [],
   "source": [
    "def pack(tent_size, missing_squares, bag_list):\n",
    "    all_squares = set((r, c) for r in range(tent_size[0])\n",
    "                                 for c in range(tent_size[1]))\n",
    "\n",
    "    def first_empty(covered_squares):\n",
    "        \"\"\" returns (r, c) for first empty square, else None if no empty squares \"\"\"\n",
    "        return 'todo'\n",
    "\n",
    "    def helper(covered_squares):\n",
    "        \"\"\" input: set of covered squares (covered by rocks or bags)\n",
    "            output: None if no packing can be found, else a list of placed bags\"\"\"\n",
    "        return 'todo'\n",
    " \n",
    "    # get things started\n",
    "    return helper(missing_squares)"
   ]
  },
  {
   "cell_type": "code",
   "execution_count": null,
   "metadata": {
    "collapsed": false,
    "deletable": true,
    "editable": true
   },
   "outputs": [],
   "source": [
    "bag_list = [\n",
    "  { (0,0), (1,0), (2,0) },  # vertical 3x1 bag\n",
    "  { (0,0), (0,1), (0,2) },  # horizontal 1x3 bag\n",
    "  { (0,0), (0,1), (1,0), (1,1) }, # square bag\n",
    "  { (0,0), (1,0), (1,1) },  # L-shaped bag\n",
    "  { (0,0), (0,1), (1,0), (2,0), (2,1) },  # C-shaped bag\n",
    "  { (0,0), (0,1), (1,1), (2,0), (2,1) },  # reverse C-shaped bag\n",
    "]\n",
    "\n",
    "# horizontal bag in 1x3 tent, no rocks => fits, no backtracking (case 1)\n",
    "tent_size = (1,3)\n",
    "rocks = set()\n",
    "print(pack(tent_size, rocks, bag_list))"
   ]
  },
  {
   "cell_type": "code",
   "execution_count": null,
   "metadata": {
    "collapsed": false,
    "deletable": true,
    "editable": true
   },
   "outputs": [],
   "source": [
    "# C-shaped bag in 3x2 tent, one rock => fits, one backtrack (case 6)\n",
    "tent_size = (3,2)\n",
    "rocks = {(1,1)}\n",
    "print(pack(tent_size, rocks, bag_list))"
   ]
  },
  {
   "cell_type": "code",
   "execution_count": null,
   "metadata": {
    "collapsed": false,
    "deletable": true,
    "editable": true
   },
   "outputs": [],
   "source": [
    "# 5x5 tent with three rocks => fits, backtracking (case 13)\n",
    "tent_size = (5,5)\n",
    "rocks = {(1,1),(1,3),(3,1)}\n",
    "print(pack(tent_size, rocks, bag_list))"
   ]
  },
  {
   "cell_type": "code",
   "execution_count": null,
   "metadata": {
    "collapsed": false,
    "deletable": true,
    "editable": true
   },
   "outputs": [],
   "source": [
    "# 5x5 tent with 4 rocks => fails; lots of backtracking to try every possibility (case 12)\n",
    "tent_size = (5,5)\n",
    "rocks = {(1,1),(1,3),(3,1),(3,3)}\n",
    "print(pack(tent_size, rocks, bag_list))"
   ]
  },
  {
   "cell_type": "markdown",
   "metadata": {
    "deletable": true,
    "editable": true
   },
   "source": [
    "### Recursive Backtracking Pattern: do/undo on success/fail"
   ]
  },
  {
   "cell_type": "code",
   "execution_count": null,
   "metadata": {
    "collapsed": true,
    "deletable": true,
    "editable": true
   },
   "outputs": [],
   "source": [
    "def pack(tent_size, missing_squares, bag_list):\n",
    "    all_squares = set((r, c) for r in range(tent_size[0])\n",
    "                                 for c in range(tent_size[1]))\n",
    "    def first_empty(covered_squares):\n",
    "        \"\"\" returns (r, c) for first empty square, else None if no empty squares \"\"\"\n",
    "        return 'todo'\n",
    "\n",
    "    def helper(result_so_far, covered_squares):\n",
    "        \"\"\" result_so_far: list of placed bags\n",
    "            covered_squares: set of squares covered by rocks or bags (will be mutated)\n",
    "            output: boolean indicating if packing successfully completed \"\"\"\n",
    "        return 'todo'\n",
    "\n",
    "    # get things started\n",
    "    result = []\n",
    "    covered_squares = set(missing_squares)\n",
    "    success = helper(result, covered_squares)\n",
    "    return result if success else None"
   ]
  },
  {
   "cell_type": "code",
   "execution_count": null,
   "metadata": {
    "collapsed": false,
    "deletable": true,
    "editable": true
   },
   "outputs": [],
   "source": [
    "# horizontal bag in 1x3 tent, no rocks => fits, no backtracking (case 1)\n",
    "tent_size = (1,3)\n",
    "rocks = set()\n",
    "print(pack(tent_size, rocks, bag_list))"
   ]
  },
  {
   "cell_type": "code",
   "execution_count": null,
   "metadata": {
    "collapsed": false,
    "deletable": true,
    "editable": true
   },
   "outputs": [],
   "source": [
    "# C-shaped bag in 3x2 tent, one rock => fits, one backtrack (case 6)\n",
    "tent_size = (3,2)\n",
    "rocks = {(1,1)}\n",
    "print(pack(tent_size, rocks, bag_list))"
   ]
  },
  {
   "cell_type": "code",
   "execution_count": null,
   "metadata": {
    "collapsed": false,
    "deletable": true,
    "editable": true
   },
   "outputs": [],
   "source": [
    "# 5x5 tent with three rocks => fits, backtracking (case 13)\n",
    "tent_size = (5,5)\n",
    "rocks = {(1,1),(1,3),(3,1)}\n",
    "print(pack(tent_size, rocks, bag_list))"
   ]
  },
  {
   "cell_type": "code",
   "execution_count": null,
   "metadata": {
    "collapsed": false,
    "deletable": true,
    "editable": true
   },
   "outputs": [],
   "source": [
    "# 5x5 tent with 4 rocks => fails; lots of backtracking to try every possibility (case 12)\n",
    "tent_size = (5,5)\n",
    "rocks = {(1,1),(1,3),(3,1),(3,3)}\n",
    "print(pack(tent_size, rocks, bag_list))"
   ]
  },
  {
   "cell_type": "markdown",
   "metadata": {
    "deletable": true,
    "editable": true
   },
   "source": [
    "### What if we want *all* packings?"
   ]
  },
  {
   "cell_type": "code",
   "execution_count": null,
   "metadata": {
    "collapsed": true,
    "deletable": true,
    "editable": true
   },
   "outputs": [],
   "source": [
    "def all_packings(tent_size, missing_squares, bag_list):\n",
    "    all_squares = set((r, c) for r in range(tent_size[0])\n",
    "                                 for c in range(tent_size[1]))\n",
    "\n",
    "    def first_empty(covered_squares):\n",
    "        \"\"\" returns (r, c) for first empty square, else None if no empty squares \"\"\"\n",
    "        return 'todo'\n",
    "    \n",
    "    def helper(covered_squares):\n",
    "        \"\"\" input: set of covered squares (covered by rocks or bags)\n",
    "            output: None if no packing can be found, else a list of packings,\n",
    "            each packing being a list of placed bags\n",
    "        \"\"\"\n",
    "        return 'todo'\n",
    "\n",
    "    # get things started\n",
    "    return helper(missing_squares)"
   ]
  },
  {
   "cell_type": "code",
   "execution_count": null,
   "metadata": {
    "collapsed": false,
    "deletable": true,
    "editable": true
   },
   "outputs": [],
   "source": [
    "# Succeeds; more than one packing possible\n",
    "tent_size = (3,3)\n",
    "rocks = set()\n",
    "res = all_packings(tent_size, rocks, bag_list)\n",
    "print(\"NUMBER PACKINGS:\", len(res) if res is not None else 0)\n",
    "print(res)"
   ]
  },
  {
   "cell_type": "code",
   "execution_count": null,
   "metadata": {
    "collapsed": false,
    "deletable": true,
    "editable": true
   },
   "outputs": [],
   "source": [
    "# More packings... (case 5)\n",
    "tent_size = (4,4)\n",
    "rocks = set()\n",
    "res = all_packings(tent_size, rocks, bag_list)\n",
    "print(\"NUMBER PACKINGS:\", len(res) if res is not None else 0)"
   ]
  },
  {
   "cell_type": "code",
   "execution_count": null,
   "metadata": {
    "collapsed": false,
    "deletable": true,
    "editable": true
   },
   "outputs": [],
   "source": [
    "# 9x7 tent with scattered rocks -- Lots of possibilities (case 15)\n",
    "tent_size = (9,7)\n",
    "rocks = {(0,2), (2,2), (2,4), (3,4), (7,4), (5,4), (5,5), (8,6), (7,1)}\n",
    "res = all_packings(tent_size, rocks, bag_list)\n",
    "print(\"NUMBER PACKINGS:\", len(res) if res is not None else 0)"
   ]
  }
 ],
 "metadata": {
  "kernelspec": {
   "display_name": "Python 3",
   "language": "python",
   "name": "python3"
  },
  "language_info": {
   "codemirror_mode": {
    "name": "ipython",
    "version": 3
   },
   "file_extension": ".py",
   "mimetype": "text/x-python",
   "name": "python",
   "nbconvert_exporter": "python",
   "pygments_lexer": "ipython3",
   "version": "3.5.1"
  }
 },
 "nbformat": 4,
 "nbformat_minor": 2
}
