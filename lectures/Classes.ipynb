{
 "cells": [
  {
   "cell_type": "markdown",
   "metadata": {},
   "source": [
    "## Python Classes\n",
    "This tutorial seeks to remind us about basics, and some fine points, related to object oriented mechanisms in Python:\n",
    "\n",
    "* instance and class attributes\n",
    "* inheritance"
   ]
  },
  {
   "cell_type": "markdown",
   "metadata": {},
   "source": [
    "### Instance and Class Attributes"
   ]
  },
  {
   "cell_type": "code",
   "execution_count": null,
   "metadata": {},
   "outputs": [],
   "source": [
    "class A:\n",
    "    x = \"cat\"\n",
    "\n",
    "a = A()\n",
    "print(\"a.x:\", a.x)"
   ]
  },
  {
   "cell_type": "code",
   "execution_count": null,
   "metadata": {},
   "outputs": [],
   "source": [
    "x = \"dog\"\n",
    "\n",
    "class B(A):\n",
    "    x = \"ferret\"\n",
    "    def __init__(self):\n",
    "        self.x = 'tomato'\n",
    "\n",
    "b = B()\n",
    "print(\"b.x:\", b.x)\n",
    "\n",
    "# What will be printed?\n",
    "#  1 - b.x: cat\n",
    "#  2 - b.x: dog\n",
    "#  3 - b.x: ferret\n",
    "#  4 - b.x: tomato\n",
    "#  5 - Other or error"
   ]
  },
  {
   "cell_type": "code",
   "execution_count": null,
   "metadata": {},
   "outputs": [],
   "source": [
    "class A:\n",
    "    x = \"cat\"\n",
    "\n",
    "class B(A):\n",
    "    x = \"dog\"\n",
    "    def __init__(self):\n",
    "        self.x = \"ferret\"\n",
    "\n",
    "class C(B):\n",
    "    x = \"tomato\"\n",
    "        \n",
    "c = C()\n",
    "print(\"c.x:\", c.x)\n",
    "\n",
    "# What will be printed?\n",
    "#  1 - c.x: cat\n",
    "#  2 - c.x: dog\n",
    "#  3 - c.x: ferret\n",
    "#  4 - c.x: tomato\n",
    "#  5 - Other or error"
   ]
  },
  {
   "cell_type": "markdown",
   "metadata": {},
   "source": [
    "### Method inheritance\n",
    "Methods can be thought of as class (or instance) attributes that happen to be functions: they are resolved similarly, then called on their arguments. There are various special syntactic forms and protocols that govern instance creation, initialization, destruction, as well as method invocation syntax to make it convenient to pass along the instance object itself."
   ]
  },
  {
   "cell_type": "code",
   "execution_count": null,
   "metadata": {},
   "outputs": [],
   "source": [
    "class Bar():\n",
    "    def __init__(self, val):\n",
    "        self.x = val\n",
    "\n",
    "class Foo(Bar):\n",
    "    x = 100\n",
    "    def increment(this):  # conventionally 'self' rather than 'this' or other variable names\n",
    "        this.x += 1\n",
    "\n",
    "f = Foo(33)\n",
    "print(\"f.x:\", f.x)\n",
    "f.increment()\n",
    "print(\"f.x:\", f.x)"
   ]
  },
  {
   "cell_type": "markdown",
   "metadata": {},
   "source": [
    "#### Invoking a superclass method:"
   ]
  },
  {
   "cell_type": "code",
   "execution_count": null,
   "metadata": {},
   "outputs": [],
   "source": [
    "class Bar():\n",
    "    def __init__(self, val):\n",
    "        self.x = val\n",
    "\n",
    "class Foo(Bar):\n",
    "    x = 100\n",
    "    def __init__(self, val):\n",
    "        Bar.__init__(self, val)\n",
    "        #super().__init__(val)\n",
    "        self.x = self.x * Foo.x\n",
    "        \n",
    "    def increment(self):\n",
    "        self.x += 1\n",
    "\n",
    "f = Foo(33)\n",
    "print(\"f.x:\", f.x)\n",
    "f.increment()\n",
    "print(\"f.x:\", f.x)"
   ]
  },
  {
   "cell_type": "markdown",
   "metadata": {},
   "source": [
    "#### Invoking a subclass method from a superclass:"
   ]
  },
  {
   "cell_type": "code",
   "execution_count": null,
   "metadata": {},
   "outputs": [],
   "source": [
    "class Bar():\n",
    "    def __init__(self, val):\n",
    "        self.x = val\n",
    "        \n",
    "    def double_increment(self):\n",
    "        self.increment()\n",
    "        self.increment()\n",
    "        \n",
    "class Foo(Bar):\n",
    "    def increment(self):\n",
    "        self.x += 1\n",
    "\n",
    "class Gorp(Bar):\n",
    "    delta = 100\n",
    "    def increment(self):\n",
    "        self.x += self.delta\n",
    "             \n",
    "f = Foo(0)\n",
    "print(\"f.x:\", f.x)\n",
    "f.double_increment()\n",
    "print(\"f.x:\", f.x)\n",
    "\n",
    "g = Gorp(0)\n",
    "print(\"g.x:\", g.x)\n",
    "g.double_increment()\n",
    "print(\"g.x:\", g.x)"
   ]
  }
 ],
 "metadata": {
  "kernelspec": {
   "display_name": "Python 3",
   "language": "python",
   "name": "python3"
  },
  "language_info": {
   "codemirror_mode": {
    "name": "ipython",
    "version": 3
   },
   "file_extension": ".py",
   "mimetype": "text/x-python",
   "name": "python",
   "nbconvert_exporter": "python",
   "pygments_lexer": "ipython3",
   "version": "3.6.4"
  }
 },
 "nbformat": 4,
 "nbformat_minor": 2
}
